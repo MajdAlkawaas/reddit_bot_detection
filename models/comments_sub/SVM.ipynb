{
 "cells": [
  {
   "cell_type": "code",
   "execution_count": 17,
   "metadata": {},
   "outputs": [],
   "source": [
    "import sklearn\n",
    "from sklearn.svm import SVC\n",
    "from sklearn.model_selection import GridSearchCV\n",
    "import numpy as np\n",
    "import pickle\n",
    "import os\n",
    "import matplotlib.pyplot as plt"
   ]
  },
  {
   "cell_type": "markdown",
   "metadata": {},
   "source": [
    "## Preparing Data\n",
    "60% training, 20% validation, and 20% testing"
   ]
  },
  {
   "cell_type": "code",
   "execution_count": 40,
   "metadata": {},
   "outputs": [],
   "source": [
    "# TODO: Move these two functions to a shared file for helper functions\n",
    "def unPickleData(filename):\n",
    "  with open(filename,'rb') as f: arr = pickle.load(f)\n",
    "  return arr\n",
    "\n",
    "def getDataPath(dirname,filename):\n",
    "  return os.path.join(os.path.abspath(os.path.join(os.getcwd(), os.pardir, os.pardir)),\"processed_data\", dirname,filename)\n",
    "\n",
    "x_data = unPickleData(getDataPath(\"comments\",\"X_comments_sub.pkl\"))\n",
    "y_data = unPickleData(getDataPath(\"comments\",\"Y_comments_sub.pkl\"))\n",
    "\n",
    "n = len(x_data)\n",
    "x_data_training = x_data[:int(0.6*n)]\n",
    "x_data_validation = x_data[int(0.6*n):int(0.8*n)]\n",
    "x_data_testing = x_data[int(0.8*n):]\n",
    "\n",
    "y_data_training = y_data[:int(0.6*n)]\n",
    "y_data_validation = y_data[int(0.6*n):int(0.8*n)]\n",
    "y_data_testing = y_data[int(0.8*n):]"
   ]
  },
  {
   "cell_type": "markdown",
   "metadata": {},
   "source": [
    "## Training"
   ]
  },
  {
   "cell_type": "code",
   "execution_count": 41,
   "metadata": {},
   "outputs": [
    {
     "data": {
      "text/plain": [
       "SVC(kernel='linear')"
      ]
     },
     "execution_count": 41,
     "metadata": {},
     "output_type": "execute_result"
    }
   ],
   "source": [
    "model_lin = SVC(kernel=\"linear\")\n",
    "model_lin.fit(x_data_training, y_data_training)"
   ]
  },
  {
   "cell_type": "markdown",
   "metadata": {},
   "source": [
    "## Learning Curve for Linear SVM"
   ]
  },
  {
   "cell_type": "code",
   "execution_count": 42,
   "metadata": {},
   "outputs": [
    {
     "data": {
      "text/plain": [
       "[<matplotlib.lines.Line2D at 0x1ccb7064700>]"
      ]
     },
     "execution_count": 42,
     "metadata": {},
     "output_type": "execute_result"
    },
    {
     "data": {
      "image/png": "[encoded data removed]",
      "text/plain": [
       "<Figure size 432x288 with 1 Axes>"
      ]
     },
     "metadata": {
      "needs_background": "light"
     },
     "output_type": "display_data"
    }
   ],
   "source": [
    "train_sizes, train_scores, test_scores = sklearn.model_selection.learning_curve(model_lin,x_data_training,y_data_training)\n",
    "plt.plot(train_sizes,np.mean(train_scores,axis=1))"
   ]
  },
  {
   "cell_type": "code",
   "execution_count": 43,
   "metadata": {},
   "outputs": [
    {
     "data": {
      "text/plain": [
       "SVC(kernel='poly')"
      ]
     },
     "execution_count": 43,
     "metadata": {},
     "output_type": "execute_result"
    }
   ],
   "source": [
    "model_poly = SVC(kernel=\"poly\")\n",
    "model_poly.fit(x_data_training, y_data_training)"
   ]
  },
  {
   "cell_type": "markdown",
   "metadata": {},
   "source": [
    "## Learning Curve for Polynomial SVM"
   ]
  },
  {
   "cell_type": "code",
   "execution_count": 44,
   "metadata": {},
   "outputs": [
    {
     "data": {
      "text/plain": [
       "[<matplotlib.lines.Line2D at 0x1ccb72cc5b0>]"
      ]
     },
     "execution_count": 44,
     "metadata": {},
     "output_type": "execute_result"
    },
    {
     "data": {
      "image/png": "[encoded data removed]",
      "text/plain": [
       "<Figure size 432x288 with 1 Axes>"
      ]
     },
     "metadata": {
      "needs_background": "light"
     },
     "output_type": "display_data"
    }
   ],
   "source": [
    "train_sizes, train_scores, test_scores = sklearn.model_selection.learning_curve(model_poly,x_data_training,y_data_training)\n",
    "plt.plot(train_sizes,np.mean(train_scores,axis=1))"
   ]
  },
  {
   "cell_type": "markdown",
   "metadata": {},
   "source": [
    "## Model Selection"
   ]
  },
  {
   "cell_type": "code",
   "execution_count": 45,
   "metadata": {},
   "outputs": [
    {
     "name": "stdout",
     "output_type": "stream",
     "text": [
      "Tuned hpyerparameters :(best parameters)  {'C': 1.629750834620645}\n",
      "Accuracy : 0.8624338624338623\n"
     ]
    }
   ],
   "source": [
    "grid = {\"C\":np.logspace(-3,3,100)}\n",
    "\n",
    "search = GridSearchCV(model_lin,grid,cv=10)\n",
    "search.fit(x_data_validation,y_data_validation)\n",
    "\n",
    "print(\"Tuned hpyerparameters :(best parameters) \",search.best_params_)\n",
    "print(\"Accuracy :\",search.best_score_)\n",
    "\n",
    "best_model_lin = search.best_estimator_"
   ]
  },
  {
   "cell_type": "code",
   "execution_count": 46,
   "metadata": {},
   "outputs": [
    {
     "name": "stdout",
     "output_type": "stream",
     "text": [
      "Tuned hpyerparameters :(best parameters)  {'C': 0.004641588833612777, 'coef0': 2.7825594022071245, 'degree': 5, 'gamma': 'scale'}\n",
      "Accuracy : 0.8697089947089948\n"
     ]
    }
   ],
   "source": [
    "grid = {'C':np.logspace(-3,3,10), 'degree':[1,2,3,4,5], 'gamma':['scale', 'auto'], 'coef0':np.logspace(0,1,10)}\n",
    "\n",
    "search = GridSearchCV(model_poly,grid,cv=10)\n",
    "search.fit(x_data_validation,y_data_validation)\n",
    "\n",
    "print(\"Tuned hpyerparameters :(best parameters) \",search.best_params_)\n",
    "print(\"Accuracy :\",search.best_score_)\n",
    "\n",
    "best_model_poly = search.best_estimator_"
   ]
  },
  {
   "cell_type": "markdown",
   "metadata": {},
   "source": [
    "## Testing"
   ]
  },
  {
   "cell_type": "markdown",
   "metadata": {},
   "source": [
    "### Excluding the validation set"
   ]
  },
  {
   "cell_type": "code",
   "execution_count": 47,
   "metadata": {},
   "outputs": [
    {
     "name": "stdout",
     "output_type": "stream",
     "text": [
      "              precision    recall  f1-score   support\n",
      "\n",
      "           0       0.86      0.99      0.92       229\n",
      "           1       0.80      0.25      0.38        48\n",
      "\n",
      "    accuracy                           0.86       277\n",
      "   macro avg       0.83      0.62      0.65       277\n",
      "weighted avg       0.85      0.86      0.83       277\n",
      "\n",
      "Accuracy:  0.8592057761732852\n"
     ]
    }
   ],
   "source": [
    "y_pred = best_model_lin.predict(x_data_testing)\n",
    "\n",
    "print(sklearn.metrics.classification_report(y_data_testing,y_pred))\n",
    "print(\"Accuracy: \", sklearn.metrics.accuracy_score(y_data_testing, y_pred))"
   ]
  },
  {
   "cell_type": "code",
   "execution_count": 48,
   "metadata": {},
   "outputs": [
    {
     "name": "stdout",
     "output_type": "stream",
     "text": [
      "              precision    recall  f1-score   support\n",
      "\n",
      "           0       0.87      0.99      0.92       229\n",
      "           1       0.82      0.29      0.43        48\n",
      "\n",
      "    accuracy                           0.87       277\n",
      "   macro avg       0.85      0.64      0.68       277\n",
      "weighted avg       0.86      0.87      0.84       277\n",
      "\n",
      "Accuracy:  0.8664259927797834\n"
     ]
    }
   ],
   "source": [
    "y_pred = best_model_poly.predict(x_data_testing)\n",
    "\n",
    "print(sklearn.metrics.classification_report(y_data_testing,y_pred))\n",
    "print(\"Accuracy: \", sklearn.metrics.accuracy_score(y_data_testing, y_pred))"
   ]
  },
  {
   "cell_type": "markdown",
   "metadata": {},
   "source": [
    "### Including the validation set\n",
    "Because of the lack of representation of the class \"bot\", especially in the testing data, the model reflects poor results when it comes to the recall and f-score."
   ]
  },
  {
   "cell_type": "code",
   "execution_count": 49,
   "metadata": {},
   "outputs": [
    {
     "name": "stdout",
     "output_type": "stream",
     "text": [
      "              precision    recall  f1-score   support\n",
      "\n",
      "           0       0.89      0.99      0.94       459\n",
      "           1       0.93      0.43      0.58        94\n",
      "\n",
      "    accuracy                           0.90       553\n",
      "   macro avg       0.91      0.71      0.76       553\n",
      "weighted avg       0.90      0.90      0.88       553\n",
      "\n",
      "Accuracy:  0.8969258589511754\n"
     ]
    }
   ],
   "source": [
    "y_pred = best_model_lin.predict(np.concatenate((x_data_testing,x_data_validation))\n",
    ")\n",
    "print(sklearn.metrics.classification_report(np.concatenate((y_data_testing,y_data_validation)),y_pred))\n",
    "print(\"Accuracy: \", sklearn.metrics.accuracy_score(np.concatenate((y_data_testing,y_data_validation)), y_pred))"
   ]
  },
  {
   "cell_type": "code",
   "execution_count": 50,
   "metadata": {},
   "outputs": [
    {
     "name": "stdout",
     "output_type": "stream",
     "text": [
      "              precision    recall  f1-score   support\n",
      "\n",
      "           0       0.91      0.99      0.95       459\n",
      "           1       0.92      0.50      0.65        94\n",
      "\n",
      "    accuracy                           0.91       553\n",
      "   macro avg       0.91      0.75      0.80       553\n",
      "weighted avg       0.91      0.91      0.90       553\n",
      "\n",
      "Accuracy:  0.9077757685352622\n"
     ]
    }
   ],
   "source": [
    "y_pred = best_model_poly.predict(np.concatenate((x_data_testing,x_data_validation))\n",
    ")\n",
    "print(sklearn.metrics.classification_report(np.concatenate((y_data_testing,y_data_validation)),y_pred))\n",
    "print(\"Accuracy: \", sklearn.metrics.accuracy_score(np.concatenate((y_data_testing,y_data_validation)), y_pred))"
   ]
  }
 ],
 "metadata": {
  "interpreter": {
   "hash": "1d79ee5334178d558789f22e348b45f2654e64cb826454f5f26bfdb3d14cc171"
  },
  "kernelspec": {
   "display_name": "Python 3.9.12 64-bit (windows store)",
   "language": "python",
   "name": "python3"
  },
  "language_info": {
   "codemirror_mode": {
    "name": "ipython",
    "version": 3
   },
   "file_extension": ".py",
   "mimetype": "text/x-python",
   "name": "python",
   "nbconvert_exporter": "python",
   "pygments_lexer": "ipython3",
   "version": "3.9.12"
  },
  "orig_nbformat": 4
 },
 "nbformat": 4,
 "nbformat_minor": 2
}
