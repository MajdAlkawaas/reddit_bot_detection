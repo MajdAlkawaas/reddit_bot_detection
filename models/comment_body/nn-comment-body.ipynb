{
 "cells": [
  {
   "cell_type": "code",
   "execution_count": 2,
   "metadata": {},
   "outputs": [],
   "source": [
    "import os\n",
    "import pickle\n",
    "import numpy as np\n",
    "import sklearn\n",
    "from sklearn.model_selection import train_test_split, learning_curve\n",
    "from tensorflow import keras\n",
    "import matplotlib.pyplot as plt\n",
    "from tensorflow.keras import Sequential, layers, regularizers\n",
    "import tensorflow as tf\n",
    "from tensorflow.keras.callbacks import ModelCheckpoint\n",
    "\n",
    "plt.style.use('seaborn')"
   ]
  },
  {
   "cell_type": "markdown",
   "metadata": {},
   "source": [
    "## Preparing Data\n",
    "60% training, 20% validation, and 20% testing"
   ]
  },
  {
   "cell_type": "code",
   "execution_count": 3,
   "metadata": {},
   "outputs": [
    {
     "name": "stdout",
     "output_type": "stream",
     "text": [
      "0 1000 2000 3000 4000 6000 7000 8000 9000 10000 11000 12000 13000 14000 15000 16000 17000 18000 19000 20000 21000 22000 23000 24000 25000 26000 27000 28000 29000 30000 31000 32000 33000 34000 35000 36000 37000 38000 39000 40000 41000 "
     ]
    }
   ],
   "source": [
    "# TODO: Move these two functions to a shared file for helper functions\n",
    "def unPickleData(filename):\n",
    "    with open(filename,'rb') as f: arr = pickle.load(f)\n",
    "    return arr\n",
    "\n",
    "\n",
    "def getDataPath(dirname,filename):\n",
    "    return os.path.join(os.path.abspath(os.path.join(os.getcwd(), os.pardir, os.pardir)),\"processed_data\", dirname,filename)\n",
    "\n",
    "print(getDataPath(\"comments\",\"X_comments.pkl\"))\n",
    "\n",
    "X_data = unPickleData(getDataPath(\"comments\",\"X_comments.pkl\"))\n",
    "y_data = unPickleData(getDataPath(\"comments\",\"Y_comments.pkl\"))\n",
    "\n",
    "# reducing amount of features\n",
    "X, y = [], []\n",
    "Class0_max_count = 37000\n",
    "for i in range(len(X_data)):\n",
    "    if y_data[i] == 0: \n",
    "        if Class0_max_count > 0:\n",
    "            # print(i)\n",
    "            X.append(X_data[i])\n",
    "            y.append(y_data[i])\n",
    "            if i%1000 == 0: print(i, end=\" \")\n",
    "            Class0_max_count -= 1 \n",
    "    else:\n",
    "        X.append(X_data[i])\n",
    "        y.append(y_data[i])\n",
    "\n",
    "\n",
    "X_train, X_temp, y_train, y_temp = train_test_split(X, y, test_size = 0.4, random_state=15, stratify=y)\n",
    "X_val,   X_test, y_val,   y_test = train_test_split(X_temp, y_temp, test_size = 0.5, random_state=15, stratify=y_temp)\n",
    "number_features = len(X_train[0])"
   ]
  },
  {
   "cell_type": "code",
   "execution_count": 4,
   "metadata": {},
   "outputs": [],
   "source": [
    "# Remove both lists to save up  memory\n",
    "X = np.load(\"X_comment.npy\")\n",
    "y = np.load(\"y_comment.npy\")\n",
    "\n",
    "X_train, X_temp, y_train, y_temp = train_test_split(X, y, test_size = 0.4, random_state=15, stratify=y)\n",
    "X_val,   X_test, y_val,   y_test = train_test_split(X_temp, y_temp, test_size = 0.5, random_state=15, stratify=y_temp)\n",
    "number_features = len(X_train[0])\n",
    "\n",
    "\n",
    "del X\n",
    "del y"
   ]
  },
  {
   "cell_type": "markdown",
   "metadata": {},
   "source": [
    "## Training"
   ]
  },
  {
   "cell_type": "code",
   "execution_count": 32,
   "metadata": {},
   "outputs": [],
   "source": [
    "model = Sequential()\n",
    "model.add(keras.layers.Input(shape=number_features))\n",
    "model.add(keras.layers.Dense(units=1000,activation=tf.nn.relu))\n",
    "model.add(layers.Dropout(0.3, noise_shape=None, seed=None))\n",
    "model.add(keras.layers.Dense(units=500, activation=tf.nn.relu))\n",
    "model.add(layers.Dropout(0.2, noise_shape=None, seed=None))\n",
    "model.add(keras.layers.Dense(units=1, activation=tf.nn.sigmoid))"
   ]
  },
  {
   "cell_type": "code",
   "execution_count": 33,
   "metadata": {},
   "outputs": [
    {
     "name": "stdout",
     "output_type": "stream",
     "text": [
      "Model: \"sequential_4\"\n",
      "_________________________________________________________________\n",
      "Layer (type)                 Output Shape              Param #   \n",
      "=================================================================\n",
      "dense_13 (Dense)             (None, 1000)              7001000   \n",
      "_________________________________________________________________\n",
      "dropout_9 (Dropout)          (None, 1000)              0         \n",
      "_________________________________________________________________\n",
      "dense_14 (Dense)             (None, 500)               500500    \n",
      "_________________________________________________________________\n",
      "dropout_10 (Dropout)         (None, 500)               0         \n",
      "_________________________________________________________________\n",
      "dense_15 (Dense)             (None, 1)                 501       \n",
      "=================================================================\n",
      "Total params: 7,502,001\n",
      "Trainable params: 7,502,001\n",
      "Non-trainable params: 0\n",
      "_________________________________________________________________\n"
     ]
    }
   ],
   "source": [
    "model.compile(optimizer='adam', loss='binary_crossentropy', metrics=['accuracy'])\n",
    "model.summary()"
   ]
  },
  {
   "cell_type": "code",
   "execution_count": 34,
   "metadata": {},
   "outputs": [
    {
     "name": "stdout",
     "output_type": "stream",
     "text": [
      "Train on 30355 samples, validate on 10119 samples\n",
      "Epoch 1/100\n",
      "30355/30355 - 4s - loss: 0.2898 - accuracy: 0.8975 - val_loss: 0.2667 - val_accuracy: 0.9084\n",
      "Epoch 2/100\n",
      "30355/30355 - 3s - loss: 0.2021 - accuracy: 0.9244 - val_loss: 0.2739 - val_accuracy: 0.9037\n",
      "Epoch 3/100\n",
      "30355/30355 - 3s - loss: 0.1264 - accuracy: 0.9504 - val_loss: 0.3279 - val_accuracy: 0.9046\n",
      "Epoch 4/100\n",
      "30355/30355 - 3s - loss: 0.0702 - accuracy: 0.9725 - val_loss: 0.5100 - val_accuracy: 0.9084\n",
      "Epoch 5/100\n",
      "30355/30355 - 3s - loss: 0.0484 - accuracy: 0.9801 - val_loss: 0.5422 - val_accuracy: 0.9051\n",
      "Epoch 6/100\n",
      "30355/30355 - 3s - loss: 0.0418 - accuracy: 0.9831 - val_loss: 0.6168 - val_accuracy: 0.9057\n",
      "Epoch 7/100\n",
      "30355/30355 - 3s - loss: 0.0371 - accuracy: 0.9848 - val_loss: 0.7038 - val_accuracy: 0.9042\n",
      "Epoch 8/100\n",
      "30355/30355 - 3s - loss: 0.0343 - accuracy: 0.9856 - val_loss: 0.6693 - val_accuracy: 0.9012\n",
      "Epoch 9/100\n",
      "30355/30355 - 3s - loss: 0.0336 - accuracy: 0.9857 - val_loss: 0.8136 - val_accuracy: 0.9052\n",
      "Epoch 10/100\n",
      "30355/30355 - 3s - loss: 0.0333 - accuracy: 0.9863 - val_loss: 0.8448 - val_accuracy: 0.9029\n",
      "Epoch 11/100\n",
      "30355/30355 - 3s - loss: 0.0316 - accuracy: 0.9862 - val_loss: 0.9418 - val_accuracy: 0.9054\n",
      "Epoch 12/100\n",
      "30355/30355 - 3s - loss: 0.0312 - accuracy: 0.9865 - val_loss: 0.8646 - val_accuracy: 0.9052\n",
      "Epoch 13/100\n",
      "30355/30355 - 3s - loss: 0.0304 - accuracy: 0.9868 - val_loss: 0.9401 - val_accuracy: 0.9051\n",
      "Epoch 14/100\n",
      "30355/30355 - 3s - loss: 0.0303 - accuracy: 0.9868 - val_loss: 0.9494 - val_accuracy: 0.9085\n",
      "Epoch 15/100\n",
      "30355/30355 - 3s - loss: 0.0302 - accuracy: 0.9868 - val_loss: 0.9348 - val_accuracy: 0.9056\n",
      "Epoch 16/100\n",
      "30355/30355 - 4s - loss: 0.0320 - accuracy: 0.9863 - val_loss: 0.8702 - val_accuracy: 0.9034\n",
      "Epoch 17/100\n",
      "30355/30355 - 3s - loss: 0.0313 - accuracy: 0.9866 - val_loss: 0.9145 - val_accuracy: 0.9030\n",
      "Epoch 18/100\n",
      "30355/30355 - 3s - loss: 0.0297 - accuracy: 0.9867 - val_loss: 0.9343 - val_accuracy: 0.9048\n",
      "Epoch 19/100\n",
      "30355/30355 - 3s - loss: 0.0289 - accuracy: 0.9872 - val_loss: 0.9655 - val_accuracy: 0.8981\n",
      "Epoch 20/100\n",
      "30355/30355 - 3s - loss: 0.0302 - accuracy: 0.9872 - val_loss: 0.8940 - val_accuracy: 0.9025\n",
      "Epoch 21/100\n",
      "30355/30355 - 4s - loss: 0.0289 - accuracy: 0.9871 - val_loss: 1.0292 - val_accuracy: 0.9040\n",
      "Epoch 22/100\n",
      "30355/30355 - 3s - loss: 0.0299 - accuracy: 0.9872 - val_loss: 0.8100 - val_accuracy: 0.9008\n",
      "Epoch 23/100\n",
      "30355/30355 - 3s - loss: 0.0342 - accuracy: 0.9867 - val_loss: 0.9874 - val_accuracy: 0.8985\n",
      "Epoch 24/100\n",
      "30355/30355 - 3s - loss: 0.0296 - accuracy: 0.9871 - val_loss: 0.8913 - val_accuracy: 0.8921\n",
      "Epoch 25/100\n",
      "30355/30355 - 3s - loss: 0.0292 - accuracy: 0.9875 - val_loss: 0.9185 - val_accuracy: 0.9035\n",
      "Epoch 26/100\n",
      "30355/30355 - 3s - loss: 0.0286 - accuracy: 0.9873 - val_loss: 0.9202 - val_accuracy: 0.9053\n",
      "Epoch 27/100\n",
      "30355/30355 - 3s - loss: 0.0283 - accuracy: 0.9874 - val_loss: 1.0403 - val_accuracy: 0.8992\n",
      "Epoch 28/100\n",
      "30355/30355 - 3s - loss: 0.0297 - accuracy: 0.9869 - val_loss: 0.9487 - val_accuracy: 0.9013\n",
      "Epoch 29/100\n",
      "30355/30355 - 4s - loss: 0.0299 - accuracy: 0.9871 - val_loss: 0.8689 - val_accuracy: 0.8985\n",
      "Epoch 30/100\n",
      "30355/30355 - 3s - loss: 0.0313 - accuracy: 0.9868 - val_loss: 1.0200 - val_accuracy: 0.9072\n",
      "Epoch 31/100\n",
      "30355/30355 - 3s - loss: 0.0304 - accuracy: 0.9868 - val_loss: 0.8889 - val_accuracy: 0.9034\n",
      "Epoch 32/100\n",
      "30355/30355 - 3s - loss: 0.0299 - accuracy: 0.9871 - val_loss: 0.8771 - val_accuracy: 0.9065\n",
      "Epoch 33/100\n",
      "30355/30355 - 3s - loss: 0.0287 - accuracy: 0.9876 - val_loss: 0.8885 - val_accuracy: 0.9054\n",
      "Epoch 34/100\n",
      "30355/30355 - 3s - loss: 0.0282 - accuracy: 0.9874 - val_loss: 0.9965 - val_accuracy: 0.9045\n",
      "Epoch 35/100\n",
      "30355/30355 - 3s - loss: 0.0286 - accuracy: 0.9873 - val_loss: 1.0063 - val_accuracy: 0.9044\n",
      "Epoch 36/100\n",
      "30355/30355 - 3s - loss: 0.0286 - accuracy: 0.9874 - val_loss: 0.9255 - val_accuracy: 0.9023\n",
      "Epoch 37/100\n",
      "30355/30355 - 3s - loss: 0.0286 - accuracy: 0.9875 - val_loss: 0.9733 - val_accuracy: 0.9045\n",
      "Epoch 38/100\n",
      "30355/30355 - 3s - loss: 0.0290 - accuracy: 0.9872 - val_loss: 0.9793 - val_accuracy: 0.9000\n",
      "Epoch 39/100\n",
      "30355/30355 - 3s - loss: 0.0288 - accuracy: 0.9874 - val_loss: 0.9347 - val_accuracy: 0.9022\n",
      "Epoch 40/100\n",
      "30355/30355 - 3s - loss: 0.0294 - accuracy: 0.9873 - val_loss: 0.9638 - val_accuracy: 0.9020\n",
      "Epoch 41/100\n",
      "30355/30355 - 3s - loss: 0.0301 - accuracy: 0.9870 - val_loss: 1.0945 - val_accuracy: 0.8973\n",
      "Epoch 42/100\n",
      "30355/30355 - 3s - loss: 0.0310 - accuracy: 0.9871 - val_loss: 0.9332 - val_accuracy: 0.8971\n",
      "Epoch 43/100\n",
      "30355/30355 - 4s - loss: 0.0283 - accuracy: 0.9875 - val_loss: 0.9703 - val_accuracy: 0.8992\n",
      "Epoch 44/100\n",
      "30355/30355 - 3s - loss: 0.0291 - accuracy: 0.9870 - val_loss: 0.9546 - val_accuracy: 0.9000\n",
      "Epoch 45/100\n",
      "30355/30355 - 3s - loss: 0.0291 - accuracy: 0.9875 - val_loss: 0.9222 - val_accuracy: 0.9031\n",
      "Epoch 46/100\n",
      "30355/30355 - 3s - loss: 0.0292 - accuracy: 0.9875 - val_loss: 0.8935 - val_accuracy: 0.9002\n",
      "Epoch 47/100\n",
      "30355/30355 - 3s - loss: 0.0290 - accuracy: 0.9873 - val_loss: 0.8505 - val_accuracy: 0.9032\n",
      "Epoch 48/100\n",
      "30355/30355 - 3s - loss: 0.0294 - accuracy: 0.9872 - val_loss: 0.9053 - val_accuracy: 0.9012\n",
      "Epoch 49/100\n",
      "30355/30355 - 4s - loss: 0.0290 - accuracy: 0.9875 - val_loss: 0.9298 - val_accuracy: 0.9028\n",
      "Epoch 50/100\n",
      "30355/30355 - 3s - loss: 0.0312 - accuracy: 0.9873 - val_loss: 0.8731 - val_accuracy: 0.9064\n",
      "Epoch 51/100\n",
      "30355/30355 - 3s - loss: 0.0290 - accuracy: 0.9875 - val_loss: 0.8558 - val_accuracy: 0.9058\n",
      "Epoch 52/100\n",
      "30355/30355 - 3s - loss: 0.0288 - accuracy: 0.9874 - val_loss: 0.9124 - val_accuracy: 0.9016\n",
      "Epoch 53/100\n",
      "30355/30355 - 3s - loss: 0.0280 - accuracy: 0.9875 - val_loss: 0.9758 - val_accuracy: 0.9025\n",
      "Epoch 54/100\n",
      "30355/30355 - 3s - loss: 0.0286 - accuracy: 0.9875 - val_loss: 0.9909 - val_accuracy: 0.9010\n",
      "Epoch 55/100\n",
      "30355/30355 - 3s - loss: 0.0280 - accuracy: 0.9875 - val_loss: 0.9718 - val_accuracy: 0.8963\n",
      "Epoch 56/100\n",
      "30355/30355 - 3s - loss: 0.0289 - accuracy: 0.9872 - val_loss: 0.8809 - val_accuracy: 0.8897\n",
      "Epoch 57/100\n",
      "30355/30355 - 3s - loss: 0.0327 - accuracy: 0.9871 - val_loss: 1.0267 - val_accuracy: 0.9030\n",
      "Epoch 58/100\n",
      "30355/30355 - 3s - loss: 0.0287 - accuracy: 0.9872 - val_loss: 0.9344 - val_accuracy: 0.9053\n",
      "Epoch 59/100\n",
      "30355/30355 - 3s - loss: 0.0297 - accuracy: 0.9875 - val_loss: 0.9148 - val_accuracy: 0.9049\n",
      "Epoch 60/100\n",
      "30355/30355 - 3s - loss: 0.0287 - accuracy: 0.9873 - val_loss: 0.9280 - val_accuracy: 0.8988\n",
      "Epoch 61/100\n",
      "30355/30355 - 3s - loss: 0.0288 - accuracy: 0.9872 - val_loss: 0.8891 - val_accuracy: 0.9015\n",
      "Epoch 62/100\n",
      "30355/30355 - 3s - loss: 0.0283 - accuracy: 0.9873 - val_loss: 0.9956 - val_accuracy: 0.9028\n",
      "Epoch 63/100\n",
      "30355/30355 - 3s - loss: 0.0301 - accuracy: 0.9872 - val_loss: 0.9571 - val_accuracy: 0.9016\n",
      "Epoch 64/100\n",
      "30355/30355 - 3s - loss: 0.0306 - accuracy: 0.9872 - val_loss: 0.8829 - val_accuracy: 0.9018\n",
      "Epoch 65/100\n",
      "30355/30355 - 3s - loss: 0.0311 - accuracy: 0.9872 - val_loss: 0.8598 - val_accuracy: 0.9037\n",
      "Epoch 66/100\n",
      "30355/30355 - 3s - loss: 0.0281 - accuracy: 0.9874 - val_loss: 0.9542 - val_accuracy: 0.9034\n",
      "Epoch 67/100\n",
      "30355/30355 - 3s - loss: 0.0285 - accuracy: 0.9874 - val_loss: 0.9373 - val_accuracy: 0.9034\n",
      "Epoch 68/100\n",
      "30355/30355 - 3s - loss: 0.0283 - accuracy: 0.9872 - val_loss: 0.9497 - val_accuracy: 0.9029\n",
      "Epoch 69/100\n",
      "30355/30355 - 3s - loss: 0.0284 - accuracy: 0.9876 - val_loss: 0.9616 - val_accuracy: 0.9038\n",
      "Epoch 70/100\n",
      "30355/30355 - 3s - loss: 0.0290 - accuracy: 0.9876 - val_loss: 0.9058 - val_accuracy: 0.9048\n",
      "Epoch 71/100\n",
      "30355/30355 - 3s - loss: 0.0306 - accuracy: 0.9871 - val_loss: 0.9814 - val_accuracy: 0.9010\n",
      "Epoch 72/100\n",
      "30355/30355 - 3s - loss: 0.0298 - accuracy: 0.9873 - val_loss: 1.1340 - val_accuracy: 0.9031\n",
      "Epoch 73/100\n",
      "30355/30355 - 3s - loss: 0.0296 - accuracy: 0.9872 - val_loss: 0.9837 - val_accuracy: 0.9008\n",
      "Epoch 74/100\n",
      "30355/30355 - 3s - loss: 0.0285 - accuracy: 0.9874 - val_loss: 0.9494 - val_accuracy: 0.9023\n",
      "Epoch 75/100\n",
      "30355/30355 - 3s - loss: 0.0290 - accuracy: 0.9875 - val_loss: 0.9180 - val_accuracy: 0.9043\n",
      "Epoch 76/100\n",
      "30355/30355 - 3s - loss: 0.0280 - accuracy: 0.9873 - val_loss: 0.9904 - val_accuracy: 0.9025\n",
      "Epoch 77/100\n",
      "30355/30355 - 3s - loss: 0.0280 - accuracy: 0.9875 - val_loss: 0.9322 - val_accuracy: 0.9012\n",
      "Epoch 78/100\n",
      "30355/30355 - 3s - loss: 0.0286 - accuracy: 0.9873 - val_loss: 0.9193 - val_accuracy: 0.9007\n",
      "Epoch 79/100\n",
      "30355/30355 - 3s - loss: 0.0288 - accuracy: 0.9873 - val_loss: 0.9363 - val_accuracy: 0.9018\n",
      "Epoch 80/100\n",
      "30355/30355 - 3s - loss: 0.0287 - accuracy: 0.9874 - val_loss: 0.9209 - val_accuracy: 0.8996\n",
      "Epoch 81/100\n",
      "30355/30355 - 3s - loss: 0.0283 - accuracy: 0.9873 - val_loss: 0.9809 - val_accuracy: 0.9047\n",
      "Epoch 82/100\n",
      "30355/30355 - 4s - loss: 0.0284 - accuracy: 0.9875 - val_loss: 0.9942 - val_accuracy: 0.9062\n",
      "Epoch 83/100\n",
      "30355/30355 - 3s - loss: 0.0283 - accuracy: 0.9876 - val_loss: 1.0429 - val_accuracy: 0.9029\n",
      "Epoch 84/100\n",
      "30355/30355 - 4s - loss: 0.0297 - accuracy: 0.9872 - val_loss: 1.0008 - val_accuracy: 0.9035\n",
      "Epoch 85/100\n",
      "30355/30355 - 3s - loss: 0.0281 - accuracy: 0.9874 - val_loss: 0.9967 - val_accuracy: 0.9018\n",
      "Epoch 86/100\n",
      "30355/30355 - 3s - loss: 0.0282 - accuracy: 0.9873 - val_loss: 0.9993 - val_accuracy: 0.9019\n",
      "Epoch 87/100\n",
      "30355/30355 - 3s - loss: 0.0287 - accuracy: 0.9875 - val_loss: 1.0552 - val_accuracy: 0.9029\n",
      "Epoch 88/100\n",
      "30355/30355 - 3s - loss: 0.0290 - accuracy: 0.9874 - val_loss: 1.0069 - val_accuracy: 0.9024\n",
      "Epoch 89/100\n",
      "30355/30355 - 3s - loss: 0.0286 - accuracy: 0.9878 - val_loss: 1.0393 - val_accuracy: 0.9021\n",
      "Epoch 90/100\n",
      "30355/30355 - 3s - loss: 0.0288 - accuracy: 0.9876 - val_loss: 1.0387 - val_accuracy: 0.9053\n",
      "Epoch 91/100\n",
      "30355/30355 - 3s - loss: 0.0288 - accuracy: 0.9875 - val_loss: 1.0082 - val_accuracy: 0.9055\n",
      "Epoch 92/100\n",
      "30355/30355 - 3s - loss: 0.0281 - accuracy: 0.9876 - val_loss: 1.1664 - val_accuracy: 0.9026\n",
      "Epoch 93/100\n",
      "30355/30355 - 3s - loss: 0.0312 - accuracy: 0.9869 - val_loss: 1.0492 - val_accuracy: 0.9043\n",
      "Epoch 94/100\n",
      "30355/30355 - 4s - loss: 0.0290 - accuracy: 0.9873 - val_loss: 1.0332 - val_accuracy: 0.8994\n",
      "Epoch 95/100\n",
      "30355/30355 - 3s - loss: 0.0290 - accuracy: 0.9874 - val_loss: 1.0032 - val_accuracy: 0.9034\n",
      "Epoch 96/100\n",
      "30355/30355 - 3s - loss: 0.0281 - accuracy: 0.9874 - val_loss: 1.0426 - val_accuracy: 0.9048\n",
      "Epoch 97/100\n",
      "30355/30355 - 3s - loss: 0.0287 - accuracy: 0.9873 - val_loss: 1.0749 - val_accuracy: 0.9028\n",
      "Epoch 98/100\n",
      "30355/30355 - 3s - loss: 0.0295 - accuracy: 0.9876 - val_loss: 1.2055 - val_accuracy: 0.9028\n",
      "Epoch 99/100\n",
      "30355/30355 - 3s - loss: 0.0293 - accuracy: 0.9874 - val_loss: 1.0730 - val_accuracy: 0.9017\n",
      "Epoch 100/100\n",
      "30355/30355 - 3s - loss: 0.0284 - accuracy: 0.9873 - val_loss: 0.9959 - val_accuracy: 0.9014\n"
     ]
    }
   ],
   "source": [
    "import time \n",
    "starting_time = time.time()\n",
    "history = model.fit(X_train, y_train, batch_size=32, epochs=100, verbose=2, validation_data=(X_val, y_val))\n",
    "end_time = time.time()"
   ]
  },
  {
   "cell_type": "code",
   "execution_count": null,
   "metadata": {},
   "outputs": [],
   "source": [
    "training_time = end_time - starting_time"
   ]
  },
  {
   "cell_type": "code",
   "execution_count": 6,
   "metadata": {},
   "outputs": [
    {
     "data": {
      "image/png": "[encoded data removed]",
      "text/plain": [
       "<Figure size 432x288 with 1 Axes>"
      ]
     },
     "metadata": {
      "needs_background": "light"
     },
     "output_type": "display_data"
    }
   ],
   "source": [
    "plt.plot(history.history['loss'], '--', color=\"#111111\",  label=\"Training score\")\n",
    "plt.plot(history.history['val_loss'], color=\"#D22B2B\", label=\"Cross-validation score\")\n",
    "\n",
    "plt.title(\"Learning Curve\")\n",
    "plt.xlabel(\"Training Set Size\"), plt.ylabel(\"Accuracy Score\"), plt.legend(loc=\"best\")\n",
    "plt.tight_layout()\n",
    "plt.show()"
   ]
  },
  {
   "cell_type": "code",
   "execution_count": 9,
   "metadata": {},
   "outputs": [
    {
     "name": "stdout",
     "output_type": "stream",
     "text": [
      "WARNING:tensorflow:From C:\\Users\\majd2\\anaconda3\\envs\\tf_gpu\\lib\\site-packages\\tensorflow_core\\python\\ops\\resource_variable_ops.py:1786: calling BaseResourceVariable.__init__ (from tensorflow.python.ops.resource_variable_ops) with constraint is deprecated and will be removed in a future version.\n",
      "Instructions for updating:\n",
      "If using Keras pass *_constraint arguments to layers.\n",
      "INFO:tensorflow:Assets written to: nn-comments\\assets\n"
     ]
    }
   ],
   "source": [
    "model.save(\"nn-comments\")"
   ]
  },
  {
   "cell_type": "code",
   "execution_count": 3,
   "metadata": {},
   "outputs": [
    {
     "name": "stdout",
     "output_type": "stream",
     "text": [
      "WARNING:tensorflow:SavedModel saved prior to TF 2.5 detected when loading Keras model. Please ensure that you are saving the model with model.save() or tf.keras.models.save_model(), *NOT* tf.saved_model.save(). To confirm, there should be a file named \"keras_metadata.pb\" in the SavedModel directory.\n"
     ]
    }
   ],
   "source": [
    "\n",
    "model = keras.models.load_model('nn-comments')"
   ]
  },
  {
   "cell_type": "code",
   "execution_count": null,
   "metadata": {},
   "outputs": [],
   "source": [
    "model.summary()"
   ]
  },
  {
   "cell_type": "code",
   "execution_count": 5,
   "metadata": {},
   "outputs": [
    {
     "name": "stdout",
     "output_type": "stream",
     "text": [
      "Which predictions match with one-hot labels: [1. 1. 1. ... 1. 1. 1.]\n",
      "Categorical Accuracy: 1.0\n",
      "Which predictions match with binary labels: [0. 1. 1. ... 1. 1. 1.]\n",
      "Binary Accuracy:  0.90384424\n",
      "F1 score: 0.39845547\n"
     ]
    }
   ],
   "source": [
    "y_pred = model.predict(X_test)\n",
    "y_test = y_test.reshape(10119, 1)\n",
    "\n",
    "m = tf.keras.metrics.categorical_accuracy(y_test, y_pred)\n",
    "print(\"Which predictions match with one-hot labels:\", m.numpy())\n",
    "m = tf.keras.metrics.CategoricalAccuracy()\n",
    "m.update_state(y_test, y_pred)\n",
    "print(\"Categorical Accuracy:\", m.result().numpy())\n",
    "\n",
    "accuracy =  tf.keras.metrics.binary_accuracy(y_test, y_pred, threshold=0.5)\n",
    "print(\"Which predictions match with binary labels:\", accuracy.numpy())\n",
    "\n",
    "accuracy =  tf.keras.metrics.BinaryAccuracy()\n",
    "accuracy.update_state(y_test, y_pred)\n",
    "print(\"Binary Accuracy: \", accuracy.result().numpy())\n",
    "\n",
    "recall = tf.keras.metrics.Recall()\n",
    "recall.update_state(y_test, y_pred)\n",
    "\n",
    "\n",
    "\n",
    "\n",
    "prec = tf.keras.metrics.Precision()\n",
    "prec.update_state(y_test, y_pred)\n",
    "\n",
    "f1_score = (recall.result().numpy()*prec.result().numpy())/(prec.result().numpy() + recall.result().numpy())\n",
    "print(\"F1 score:\", f1_score)"
   ]
  },
  {
   "cell_type": "code",
   "execution_count": 13,
   "metadata": {},
   "outputs": [
    {
     "name": "stdout",
     "output_type": "stream",
     "text": [
      "              precision    recall  f1-score   support\n",
      "\n",
      "           0       0.91      0.96      0.94      7501\n",
      "           1       0.88      0.73      0.80      2618\n",
      "\n",
      "    accuracy                           0.90     10119\n",
      "   macro avg       0.89      0.85      0.87     10119\n",
      "weighted avg       0.90      0.90      0.90     10119\n",
      "\n",
      "Accuracy:  0.9038442533847219\n"
     ]
    }
   ],
   "source": [
    "y_pred = model.predict(X_test)\n",
    "y_test = y_test\n",
    "y_pred = [1 if (d > 0.5) else 0 for d in y_pred]\n",
    "print(sklearn.metrics.classification_report(np.concatenate((y_test)),y_pred))\n",
    "print(\"Accuracy: \", sklearn.metrics.accuracy_score(np.concatenate((y_test)), y_pred))"
   ]
  },
  {
   "cell_type": "code",
   "execution_count": 11,
   "metadata": {},
   "outputs": [],
   "source": [
    "pred = np.array(y_pred)"
   ]
  },
  {
   "cell_type": "code",
   "execution_count": 12,
   "metadata": {},
   "outputs": [
    {
     "data": {
      "text/plain": [
       "(10119,)"
      ]
     },
     "execution_count": 12,
     "metadata": {},
     "output_type": "execute_result"
    }
   ],
   "source": [
    "pred.shape"
   ]
  },
  {
   "cell_type": "code",
   "execution_count": null,
   "metadata": {},
   "outputs": [],
   "source": []
  }
 ],
 "metadata": {
  "interpreter": {
   "hash": "0f8db473d6762dfb6f9dcd7989df9714501dfc9335e8a68c24282034a9bd8d9b"
  },
  "kernelspec": {
   "display_name": "Python 3",
   "language": "python",
   "name": "python3"
  },
  "language_info": {
   "codemirror_mode": {
    "name": "ipython",
    "version": 3
   },
   "file_extension": ".py",
   "mimetype": "text/x-python",
   "name": "python",
   "nbconvert_exporter": "python",
   "pygments_lexer": "ipython3",
   "version": "3.8.5"
  }
 },
 "nbformat": 4,
 "nbformat_minor": 2
}
