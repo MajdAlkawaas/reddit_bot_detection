{
 "cells": [
  {
   "cell_type": "code",
   "execution_count": 14,
   "metadata": {},
   "outputs": [],
   "source": [
    "import sklearn\n",
    "from sklearn.model_selection import GridSearchCV\n",
    "import numpy as np\n",
    "import pickle\n",
    "import os"
   ]
  },
  {
   "cell_type": "markdown",
   "metadata": {},
   "source": [
    "Load and Split the Data"
   ]
  },
  {
   "cell_type": "code",
   "execution_count": 15,
   "metadata": {},
   "outputs": [],
   "source": [
    "def unPickleData(filename):\n",
    "  with open(filename,'rb') as f: arr = pickle.load(f)\n",
    "  return arr\n",
    "\n",
    "def getDataPath(dirname,filename):\n",
    "  return os.path.join(os.path.abspath(os.path.join(os.getcwd(), os.pardir, os.pardir)),\"processed_data\", dirname,filename)\n",
    "\n",
    "x_data = unPickleData(getDataPath(\"posts\",\"X_posts.pkl\"))\n",
    "y_data = unPickleData(getDataPath(\"posts\",\"Y_posts.pkl\"))"
   ]
  },
  {
   "cell_type": "code",
   "execution_count": 16,
   "metadata": {},
   "outputs": [
    {
     "name": "stdout",
     "output_type": "stream",
     "text": [
      "class 0: 30000\n",
      "class 1: 9114\n"
     ]
    }
   ],
   "source": [
    "X, y = [], []\n",
    "Class0_max_count = 30000\n",
    "for i in range(len(x_data)):\n",
    "    if y_data[i] == 0: \n",
    "        if Class0_max_count > 0:\n",
    "            X.append(x_data[i])\n",
    "            y.append(y_data[i])\n",
    "            Class0_max_count -= 1 \n",
    "    else:\n",
    "        X.append(x_data[i])\n",
    "        y.append(y_data[i])\n",
    "\n",
    "np_y = np.array(y)\n",
    "print(\"class 0:\", len(np_y[np_y==0]))\n",
    "print(\"class 1:\", len(np_y[np_y==1]))"
   ]
  },
  {
   "cell_type": "code",
   "execution_count": 17,
   "metadata": {},
   "outputs": [],
   "source": [
    "from sklearn.model_selection import train_test_split\n",
    "\n",
    "X_train, X_rem, y_train, y_rem = train_test_split(X,y, train_size=0.6 , random_state= 42)\n",
    "X_valid, X_test, y_valid, y_test = train_test_split(X_rem,y_rem, test_size=0.5 , random_state= 42)"
   ]
  },
  {
   "cell_type": "code",
   "execution_count": 18,
   "metadata": {},
   "outputs": [
    {
     "data": {
      "text/plain": [
       "GaussianNB()"
      ]
     },
     "execution_count": 18,
     "metadata": {},
     "output_type": "execute_result"
    }
   ],
   "source": [
    "from sklearn.naive_bayes import GaussianNB\n",
    "classifier = GaussianNB()\n",
    "classifier.fit(X_train, y_train)"
   ]
  },
  {
   "cell_type": "code",
   "execution_count": 19,
   "metadata": {},
   "outputs": [
    {
     "name": "stdout",
     "output_type": "stream",
     "text": [
      "              precision    recall  f1-score   support\n",
      "\n",
      "           0       0.89      0.54      0.67      6019\n",
      "           1       0.34      0.78      0.47      1804\n",
      "\n",
      "    accuracy                           0.59      7823\n",
      "   macro avg       0.61      0.66      0.57      7823\n",
      "weighted avg       0.76      0.59      0.63      7823\n",
      "\n",
      "Accuracy = 0.594528953087051\n",
      "f-measure = 0.5705926775007649\n"
     ]
    }
   ],
   "source": [
    "y_pred = classifier.predict(X_test)\n",
    "\n",
    "print(sklearn.metrics.classification_report(y_test,y_pred))\n",
    "print(f\"Accuracy = {sklearn.metrics.accuracy_score(y_test, y_pred)}\")\n",
    "print(f\"f-measure = {sklearn.metrics.f1_score(y_test, y_pred, average='macro')}\")"
   ]
  },
  {
   "cell_type": "markdown",
   "metadata": {},
   "source": [
    "Saving the model"
   ]
  },
  {
   "cell_type": "code",
   "execution_count": 20,
   "metadata": {},
   "outputs": [],
   "source": [
    "def getSavedModelPath(dirname,filename):\n",
    "  return os.path.join(os.path.abspath(os.path.join(os.getcwd(), os.pardir, os.pardir)),\"savedModels\", dirname,filename)\n",
    "\n",
    "with open(getSavedModelPath(\"posts\",\"NaiveBayes.pkl\"), 'wb') as f:\n",
    "    pickle.dump(classifier,f)"
   ]
  },
  {
   "cell_type": "markdown",
   "metadata": {},
   "source": [
    "Confusion Matrix"
   ]
  },
  {
   "cell_type": "code",
   "execution_count": 21,
   "metadata": {},
   "outputs": [
    {
     "name": "stdout",
     "output_type": "stream",
     "text": [
      "Confusion matrix, without normalization\n",
      "[[3249 2770]\n",
      " [ 402 1402]]\n",
      "Normalized confusion matrix\n",
      "[[0.53979066 0.46020934]\n",
      " [0.22283814 0.77716186]]\n"
     ]
    },
    {
     "data": {
      "image/png": "[encoded data removed]",
      "text/plain": [
       "<Figure size 432x288 with 2 Axes>"
      ]
     },
     "metadata": {
      "needs_background": "light"
     },
     "output_type": "display_data"
    },
    {
     "data": {
      "image/png": "[encoded data removed]",
      "text/plain": [
       "<Figure size 432x288 with 2 Axes>"
      ]
     },
     "metadata": {
      "needs_background": "light"
     },
     "output_type": "display_data"
    }
   ],
   "source": [
    "import matplotlib.pyplot as plot\n",
    "from sklearn.metrics import ConfusionMatrixDisplay\n",
    "\n",
    "title_options = [\n",
    "    (\"Confusion matrix, without normalization\", None),\n",
    "    (\"Normalized confusion matrix\", \"true\"),\n",
    "]\n",
    "for title, normalize in title_options:\n",
    "    display = ConfusionMatrixDisplay.from_estimator(\n",
    "        classifier,\n",
    "        X_test,\n",
    "        y_test,\n",
    "        display_labels=[\"Bot\" , \"Normal User\"],\n",
    "        cmap=plot.cm.Blues,\n",
    "        normalize=normalize,\n",
    "    )\n",
    "    display.ax_.set_title(title)\n",
    "\n",
    "    print(title)\n",
    "    print(display.confusion_matrix)\n",
    "\n",
    "plot.show()\n"
   ]
  },
  {
   "cell_type": "markdown",
   "metadata": {},
   "source": [
    "Learning Curve"
   ]
  },
  {
   "cell_type": "code",
   "execution_count": 22,
   "metadata": {},
   "outputs": [
    {
     "name": "stdout",
     "output_type": "stream",
     "text": [
      "[learning_curve] Training set sizes: [  211   637  1064  1491  1918  2344  2771  3198  3625  4051  4478  4905\n",
      "  5331  5758  6185  6612  7038  7465  7892  8319  8745  9172  9599 10026\n",
      " 10452 10879 11306 11732 12159 12586 13013 13439 13866 14293 14720 15146\n",
      " 15573 16000 16426 16853 17280 17707 18133 18560 18987 19414 19840 20267\n",
      " 20694 21121]\n"
     ]
    },
    {
     "name": "stderr",
     "output_type": "stream",
     "text": [
      "[Parallel(n_jobs=1)]: Using backend SequentialBackend with 1 concurrent workers.\n"
     ]
    }
   ],
   "source": [
    "from sklearn.model_selection import learning_curve\n",
    "import matplotlib.pyplot as plt\n",
    "\n",
    "train_size, train_score, test_scores = learning_curve(classifier, X_train, y_train, cv = 10, scoring='accuracy', n_jobs=1, train_sizes=np.linspace(0.01, 1, 50), verbose=1)\n",
    "mean_train = np.mean(train_score , axis = 1)\n",
    "mean_test = np.mean(test_scores , axis = 1)\n",
    "plt.plot(train_size, 1-mean_train, label='Training score')\n",
    "plt.plot(train_size, 1-mean_test, label='Cross-validation score')\n",
    "plt.xlabel('Training Size')\n",
    "plt.ylabel('Score')\n",
    "plt.title('Learning Curve')\n",
    "plt.legend()\n",
    "plt.show()"
   ]
  }
 ],
 "metadata": {
  "interpreter": {
   "hash": "de6ff951bef0339bc88a2ed79bdf78947cbc6531509306936c69548d8895ab6c"
  },
  "kernelspec": {
   "display_name": "Python 3.8.10 ('env': venv)",
   "language": "python",
   "name": "python3"
  },
  "language_info": {
   "codemirror_mode": {
    "name": "ipython",
    "version": 3
   },
   "file_extension": ".py",
   "mimetype": "text/x-python",
   "name": "python",
   "nbconvert_exporter": "python",
   "pygments_lexer": "ipython3",
   "version": "3.8.10"
  },
  "orig_nbformat": 4
 },
 "nbformat": 4,
 "nbformat_minor": 2
}
