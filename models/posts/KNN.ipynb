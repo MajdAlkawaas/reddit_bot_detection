{
 "cells": [
  {
   "cell_type": "code",
   "execution_count": 6,
   "metadata": {},
   "outputs": [],
   "source": [
    "import sklearn\n",
    "from sklearn.model_selection import GridSearchCV\n",
    "import numpy as np\n",
    "import pickle\n",
    "import os"
   ]
  },
  {
   "cell_type": "markdown",
   "metadata": {},
   "source": [
    "Load and Split the Data"
   ]
  },
  {
   "cell_type": "code",
   "execution_count": 7,
   "metadata": {},
   "outputs": [],
   "source": [
    "# TODO: Move these two functions to a shared file for helper functions\n",
    "def unPickleData(filename):\n",
    "  with open(filename,'rb') as f: arr = pickle.load(f)\n",
    "  return arr\n",
    "\n",
    "def getDataPath(dirname,filename):\n",
    "  return os.path.join(os.path.abspath(os.path.join(os.getcwd(), os.pardir, os.pardir)),\"processed_data\", dirname,filename)\n",
    "\n",
    "x_data = unPickleData(getDataPath(\"posts\",\"X_posts.pkl\"))\n",
    "y_data = unPickleData(getDataPath(\"posts\",\"Y_posts.pkl\"))\n",
    "\n",
    "from sklearn.model_selection import train_test_split\n",
    "\n",
    "X_train, X_rem, y_train, y_rem = train_test_split(x_data,y_data, train_size=0.6 , random_state= 42)\n",
    "X_valid, X_test, y_valid, y_test = train_test_split(X_rem,y_rem, test_size=0.5 , random_state= 42)"
   ]
  },
  {
   "cell_type": "markdown",
   "metadata": {},
   "source": [
    "KNN Training & Hyperparameter Tuning"
   ]
  },
  {
   "cell_type": "code",
   "execution_count": 4,
   "metadata": {},
   "outputs": [],
   "source": [
    "from sklearn.neighbors import KNeighborsClassifier\n",
    "KNNclassifier = KNeighborsClassifier()\n",
    "\n",
    "parameters = dict(n_neighbors=[3 , 5 , 10])\n",
    "linearClassifier = GridSearchCV(KNNclassifier, parameters, scoring = ['f1_micro','accuracy'], cv=5, refit='f1_micro')\n",
    "linearClassifier.fit(X_train, y_train)\n",
    "\n",
    "bestKNNClassifier = linearClassifier.best_estimator_"
   ]
  },
  {
   "cell_type": "code",
   "execution_count": 5,
   "metadata": {},
   "outputs": [
    {
     "name": "stdout",
     "output_type": "stream",
     "text": [
      "For KNN:\n",
      "Best Estimator: KNeighborsClassifier(n_neighbors=10)\n",
      "F-measure = 0.8756120401337792\n",
      "Accuracy = 0.8756120401337792\n"
     ]
    }
   ],
   "source": [
    "print(\"For KNN:\")\n",
    "print(f\"Best Estimator: {linearClassifier.best_estimator_}\")\n",
    "print(f\"F-measure = {linearClassifier.best_score_}\")\n",
    "print(f\"Accuracy = {max(linearClassifier.cv_results_['mean_test_f1_micro'])}\")"
   ]
  },
  {
   "cell_type": "markdown",
   "metadata": {},
   "source": [
    "Testing"
   ]
  },
  {
   "cell_type": "code",
   "execution_count": 6,
   "metadata": {},
   "outputs": [
    {
     "name": "stdout",
     "output_type": "stream",
     "text": [
      "              precision    recall  f1-score   support\n",
      "\n",
      "           0       0.88      0.99      0.93     10624\n",
      "           1       0.87      0.20      0.32      1835\n",
      "\n",
      "    accuracy                           0.88     12459\n",
      "   macro avg       0.87      0.60      0.63     12459\n",
      "weighted avg       0.88      0.88      0.84     12459\n",
      "\n",
      "Accuracy = 0.877437996628943\n",
      "f-measure = 0.877437996628943\n"
     ]
    }
   ],
   "source": [
    "y_pred = bestKNNClassifier.predict(X_test)\n",
    "\n",
    "print(sklearn.metrics.classification_report(y_test,y_pred))\n",
    "print(f\"Accuracy = {sklearn.metrics.accuracy_score(y_test, y_pred)}\")\n",
    "print(f\"f-measure = {sklearn.metrics.f1_score(y_test, y_pred, average='micro')}\")"
   ]
  },
  {
   "cell_type": "markdown",
   "metadata": {},
   "source": [
    "Saving the model"
   ]
  },
  {
   "cell_type": "code",
   "execution_count": 7,
   "metadata": {},
   "outputs": [],
   "source": [
    "def getSavedModelPath(dirname,filename):\n",
    "  return os.path.join(os.path.abspath(os.path.join(os.getcwd(), os.pardir, os.pardir)),\"savedModels\", dirname,filename)\n",
    "\n",
    "with open(getSavedModelPath(\"posts\",\"KNN.pkl\"), 'wb') as f:\n",
    "    pickle.dump(bestKNNClassifier,f)"
   ]
  },
  {
   "cell_type": "markdown",
   "metadata": {},
   "source": [
    "Confusion Matrix"
   ]
  },
  {
   "cell_type": "code",
   "execution_count": 4,
   "metadata": {},
   "outputs": [
    {
     "name": "stdout",
     "output_type": "stream",
     "text": [
      "KNeighborsClassifier(n_neighbors=10)\n"
     ]
    }
   ],
   "source": [
    "import pickle\n",
    "def getSavedModelPath(dirname,filename):\n",
    "  return os.path.join(os.path.abspath(os.path.join(os.getcwd(), os.pardir, os.pardir)),\"savedModels\", dirname,filename)\n",
    "\n",
    "bestKNNClassifier = pickle.load(open(getSavedModelPath(\"posts\",\"KNN.pkl\"), \"rb\"))\n",
    "print(bestKNNClassifier)"
   ]
  },
  {
   "cell_type": "code",
   "execution_count": 8,
   "metadata": {},
   "outputs": [
    {
     "name": "stdout",
     "output_type": "stream",
     "text": [
      "Confusion matrix, without normalization\n",
      "[[10568    56]\n",
      " [ 1471   364]]\n",
      "Normalized confusion matrix\n",
      "[[0.99472892 0.00527108]\n",
      " [0.80163488 0.19836512]]\n"
     ]
    },
    {
     "data": {
      "image/png": "[encoded data removed]",
      "text/plain": [
       "<Figure size 432x288 with 2 Axes>"
      ]
     },
     "metadata": {
      "needs_background": "light"
     },
     "output_type": "display_data"
    },
    {
     "data": {
      "image/png": "[encoded data removed]",
      "text/plain": [
       "<Figure size 432x288 with 2 Axes>"
      ]
     },
     "metadata": {
      "needs_background": "light"
     },
     "output_type": "display_data"
    }
   ],
   "source": [
    "import matplotlib.pyplot as plot\n",
    "from sklearn.metrics import ConfusionMatrixDisplay\n",
    "\n",
    "title_options = [\n",
    "    (\"Confusion matrix, without normalization\", None),\n",
    "    (\"Normalized confusion matrix\", \"true\"),\n",
    "]\n",
    "for title, normalize in title_options:\n",
    "    display = ConfusionMatrixDisplay.from_estimator(\n",
    "        bestKNNClassifier,\n",
    "        X_test,\n",
    "        y_test,\n",
    "        display_labels=[\"Bot\" , \"Normal User\"],\n",
    "        cmap=plot.cm.Blues,\n",
    "        normalize=normalize,\n",
    "    )\n",
    "    display.ax_.set_title(title)\n",
    "\n",
    "    print(title)\n",
    "    print(display.confusion_matrix)\n",
    "\n",
    "plot.show()\n"
   ]
  },
  {
   "cell_type": "markdown",
   "metadata": {},
   "source": [
    "Learning Curve"
   ]
  }
 ],
 "metadata": {
  "interpreter": {
   "hash": "de6ff951bef0339bc88a2ed79bdf78947cbc6531509306936c69548d8895ab6c"
  },
  "kernelspec": {
   "display_name": "Python 3.8.10 ('env': venv)",
   "language": "python",
   "name": "python3"
  },
  "language_info": {
   "codemirror_mode": {
    "name": "ipython",
    "version": 3
   },
   "file_extension": ".py",
   "mimetype": "text/x-python",
   "name": "python",
   "nbconvert_exporter": "python",
   "pygments_lexer": "ipython3",
   "version": "3.8.10"
  },
  "orig_nbformat": 4
 },
 "nbformat": 4,
 "nbformat_minor": 2
}
