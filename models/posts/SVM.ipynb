{
 "cells": [
  {
   "cell_type": "code",
   "execution_count": 1,
   "metadata": {},
   "outputs": [],
   "source": [
    "import sklearn\n",
    "from sklearn.svm import SVC\n",
    "from sklearn.model_selection import GridSearchCV\n",
    "import numpy as np\n",
    "import pickle\n",
    "import os"
   ]
  },
  {
   "cell_type": "markdown",
   "metadata": {},
   "source": [
    "Load the Data"
   ]
  },
  {
   "cell_type": "code",
   "execution_count": 6,
   "metadata": {},
   "outputs": [],
   "source": [
    "def unPickleData(filename):\n",
    "  with open(filename,'rb') as f: arr = pickle.load(f)\n",
    "  return arr\n",
    "\n",
    "def getDataPath(dirname,filename):\n",
    "  return os.path.join(os.path.abspath(os.path.join(os.getcwd(), os.pardir, os.pardir)),\"processed_data\", dirname,filename)\n",
    "\n",
    "x_data = unPickleData(getDataPath(\"posts\",\"X_posts.pkl\"))\n",
    "y_data = unPickleData(getDataPath(\"posts\",\"Y_posts.pkl\"))"
   ]
  },
  {
   "cell_type": "code",
   "execution_count": 10,
   "metadata": {},
   "outputs": [
    {
     "name": "stdout",
     "output_type": "stream",
     "text": [
      "0 2000 3000 4000 5000 6000 7000 8000 9000 11000 12000 13000 14000 15000 16000 17000 18000 19000 20000 21000 22000 23000 "
     ]
    }
   ],
   "source": [
    "X, y = [], []\n",
    "Class0_max_count = 20000\n",
    "for i in range(len(x_data)):\n",
    "    if y_data[i] == 0: \n",
    "        if Class0_max_count > 0:\n",
    "            X.append(x_data[i])\n",
    "            y.append(y_data[i])\n",
    "            if i%1000 == 0: print(i, end=\" \")\n",
    "            Class0_max_count -= 1 \n",
    "    else:\n",
    "        X.append(x_data[i])\n",
    "        y.append(y_data[i])\n",
    "\n",
    "np_y = np.array(y)\n",
    "print(\"class 0:\", len(np_y[np_y==0]))\n",
    "print(\"class 1:\", len(np_y[np_y==1]))"
   ]
  },
  {
   "cell_type": "code",
   "execution_count": 12,
   "metadata": {},
   "outputs": [],
   "source": [
    "from sklearn.model_selection import train_test_split\n",
    "\n",
    "X_train, X_rem, y_train, y_rem = train_test_split(X,y, train_size=0.6 , random_state= 42)\n",
    "X_valid, X_test, y_valid, y_test = train_test_split(X_rem,y_rem, test_size=0.5 , random_state= 42)"
   ]
  },
  {
   "cell_type": "markdown",
   "metadata": {},
   "source": [
    "SVM trainig & Hyperparameter Tuning"
   ]
  },
  {
   "cell_type": "code",
   "execution_count": 13,
   "metadata": {},
   "outputs": [],
   "source": [
    "parameters = {'C':[0.001,0.01,0.1, 1]}\n",
    "linearSVM = SVC(kernel=\"linear\")\n",
    "linearClassifier = GridSearchCV(linearSVM, parameters, scoring = ['f1_micro','accuracy'], cv=5, refit='f1_micro')\n",
    "linearClassifier.fit(X_train, y_train)\n",
    "\n",
    "bestLinearClassifier = linearClassifier.best_estimator_\n",
    "\n",
    "print(\"For Linear SVM:\")\n",
    "print(f\"Best Estimator: {linearClassifier.best_estimator_}\")\n",
    "print(f\"F-measure = {linearClassifier.best_score_}\")\n",
    "print(f\"Accuracy = {max(linearClassifier.cv_results_['mean_test_f1_micro'])}\")"
   ]
  },
  {
   "cell_type": "markdown",
   "metadata": {},
   "source": [
    "Testing"
   ]
  },
  {
   "cell_type": "code",
   "execution_count": null,
   "metadata": {},
   "outputs": [],
   "source": [
    "y_pred = bestLinearClassifier.predict(X_test)\n",
    "\n",
    "print(sklearn.metrics.classification_report(y_test,y_pred))\n",
    "print(\"Accuracy: \", sklearn.metrics.accuracy_score(y_test, y_pred))\n",
    "print(f\"f-measure = {sklearn.metrics.f1_score(y_test, y_pred, average='micro')}\")"
   ]
  },
  {
   "cell_type": "markdown",
   "metadata": {},
   "source": [
    "Saving the model"
   ]
  },
  {
   "cell_type": "code",
   "execution_count": null,
   "metadata": {},
   "outputs": [],
   "source": [
    "def getSavedModelPath(dirname,filename):\n",
    "  return os.path.join(os.path.abspath(os.path.join(os.getcwd(), os.pardir, os.pardir)),\"savedModels\", dirname,filename)\n",
    "\n",
    "with open(getSavedModelPath(\"posts\",\"SVM.pkl\"), 'wb') as f:\n",
    "    pickle.dump(bestLinearClassifier,f)"
   ]
  },
  {
   "cell_type": "markdown",
   "metadata": {},
   "source": [
    "Learning Curve"
   ]
  },
  {
   "cell_type": "code",
   "execution_count": 2,
   "metadata": {},
   "outputs": [
    {
     "ename": "NameError",
     "evalue": "name 'linearClassifier' is not defined",
     "output_type": "error",
     "traceback": [
      "\u001b[1;31m---------------------------------------------------------------------------\u001b[0m",
      "\u001b[1;31mNameError\u001b[0m                                 Traceback (most recent call last)",
      "\u001b[1;32mc:\\Users\\student\\Desktop\\Spring 2022\\CMPS 287\\reddit_bot_detection\\reddit_bot_detection\\models\\posts\\SVM.ipynb Cell 15'\u001b[0m in \u001b[0;36m<cell line: 4>\u001b[1;34m()\u001b[0m\n\u001b[0;32m      <a href='vscode-notebook-cell:/c%3A/Users/student/Desktop/Spring%202022/CMPS%20287/reddit_bot_detection/reddit_bot_detection/models/posts/SVM.ipynb#ch0000014?line=0'>1</a>\u001b[0m \u001b[39mfrom\u001b[39;00m \u001b[39msklearn\u001b[39;00m\u001b[39m.\u001b[39;00m\u001b[39mmodel_selection\u001b[39;00m \u001b[39mimport\u001b[39;00m learning_curve\n\u001b[0;32m      <a href='vscode-notebook-cell:/c%3A/Users/student/Desktop/Spring%202022/CMPS%20287/reddit_bot_detection/reddit_bot_detection/models/posts/SVM.ipynb#ch0000014?line=1'>2</a>\u001b[0m \u001b[39mimport\u001b[39;00m \u001b[39mmatplotlib\u001b[39;00m\u001b[39m.\u001b[39;00m\u001b[39mpyplot\u001b[39;00m \u001b[39mas\u001b[39;00m \u001b[39mplt\u001b[39;00m\n\u001b[1;32m----> <a href='vscode-notebook-cell:/c%3A/Users/student/Desktop/Spring%202022/CMPS%20287/reddit_bot_detection/reddit_bot_detection/models/posts/SVM.ipynb#ch0000014?line=3'>4</a>\u001b[0m train_size, train_score, test_scores \u001b[39m=\u001b[39m learning_curve(linearClassifier, X_train, y_train, cv \u001b[39m=\u001b[39m \u001b[39m10\u001b[39m, scoring\u001b[39m=\u001b[39m\u001b[39m'\u001b[39m\u001b[39maccuracy\u001b[39m\u001b[39m'\u001b[39m, n_jobs\u001b[39m=\u001b[39m\u001b[39m1\u001b[39m, train_sizes\u001b[39m=\u001b[39mnp\u001b[39m.\u001b[39mlinspace(\u001b[39m0.01\u001b[39m, \u001b[39m1\u001b[39m, \u001b[39m50\u001b[39m), verbose\u001b[39m=\u001b[39m\u001b[39m1\u001b[39m)\n\u001b[0;32m      <a href='vscode-notebook-cell:/c%3A/Users/student/Desktop/Spring%202022/CMPS%20287/reddit_bot_detection/reddit_bot_detection/models/posts/SVM.ipynb#ch0000014?line=4'>5</a>\u001b[0m mean_train \u001b[39m=\u001b[39m np\u001b[39m.\u001b[39mmean(train_score , axis \u001b[39m=\u001b[39m \u001b[39m1\u001b[39m)\n\u001b[0;32m      <a href='vscode-notebook-cell:/c%3A/Users/student/Desktop/Spring%202022/CMPS%20287/reddit_bot_detection/reddit_bot_detection/models/posts/SVM.ipynb#ch0000014?line=5'>6</a>\u001b[0m mean_test \u001b[39m=\u001b[39m np\u001b[39m.\u001b[39mmean(test_scores , axis \u001b[39m=\u001b[39m \u001b[39m1\u001b[39m)\n",
      "\u001b[1;31mNameError\u001b[0m: name 'linearClassifier' is not defined"
     ]
    }
   ],
   "source": [
    "from sklearn.model_selection import learning_curve\n",
    "import matplotlib.pyplot as plt\n",
    "\n",
    "train_size, train_score, test_scores = learning_curve(bestLinearClassifier, X_train, y_train, cv = 10, scoring='accuracy', n_jobs=1, train_sizes=np.linspace(0.01, 1, 50), verbose=1)\n",
    "mean_train = np.mean(train_score , axis = 1)\n",
    "mean_test = np.mean(test_scores , axis = 1)\n",
    "plt.plot(train_size, 1-mean_train, label='Training score')\n",
    "plt.plot(train_size, 1-mean_test, label='Cross-validation score')\n",
    "plt.xlabel('Training Size')\n",
    "plt.ylabel('Score')\n",
    "plt.title('Learning Curve')\n",
    "plt.legend()\n",
    "plt.show()"
   ]
  }
 ],
 "metadata": {
  "interpreter": {
   "hash": "de6ff951bef0339bc88a2ed79bdf78947cbc6531509306936c69548d8895ab6c"
  },
  "kernelspec": {
   "display_name": "Python 3.8.10 ('env': venv)",
   "language": "python",
   "name": "python3"
  },
  "language_info": {
   "codemirror_mode": {
    "name": "ipython",
    "version": 3
   },
   "file_extension": ".py",
   "mimetype": "text/x-python",
   "name": "python",
   "nbconvert_exporter": "python",
   "pygments_lexer": "ipython3",
   "version": "3.8.10"
  },
  "orig_nbformat": 4
 },
 "nbformat": 4,
 "nbformat_minor": 2
}
