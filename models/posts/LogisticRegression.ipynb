{
 "cells": [
  {
   "cell_type": "code",
   "execution_count": 1,
   "metadata": {},
   "outputs": [],
   "source": [
    "import sklearn\n",
    "from sklearn.linear_model import LogisticRegression\n",
    "from sklearn.model_selection import GridSearchCV\n",
    "import numpy as np\n",
    "import pickle\n",
    "import os"
   ]
  },
  {
   "cell_type": "markdown",
   "metadata": {},
   "source": [
    "Load and Split the Data"
   ]
  },
  {
   "cell_type": "code",
   "execution_count": 2,
   "metadata": {},
   "outputs": [],
   "source": [
    "def unPickleData(filename):\n",
    "  with open(filename,'rb') as f: arr = pickle.load(f)\n",
    "  return arr\n",
    "\n",
    "def getDataPath(dirname,filename):\n",
    "  return os.path.join(os.path.abspath(os.path.join(os.getcwd(), os.pardir, os.pardir)),\"processed_data\", dirname,filename)\n",
    "\n",
    "x_data = unPickleData(getDataPath(\"posts\",\"X_posts.pkl\"))\n",
    "y_data = unPickleData(getDataPath(\"posts\",\"Y_posts.pkl\"))"
   ]
  },
  {
   "cell_type": "code",
   "execution_count": 3,
   "metadata": {},
   "outputs": [
    {
     "name": "stdout",
     "output_type": "stream",
     "text": [
      "class 0: 45000\n",
      "class 1: 9114\n"
     ]
    }
   ],
   "source": [
    "X, y = [], []\n",
    "Class0_max_count = 45000\n",
    "for i in range(len(x_data)):\n",
    "    if y_data[i] == 0: \n",
    "        if Class0_max_count > 0:\n",
    "            X.append(x_data[i])\n",
    "            y.append(y_data[i])\n",
    "            Class0_max_count -= 1 \n",
    "    else:\n",
    "        X.append(x_data[i])\n",
    "        y.append(y_data[i])\n",
    "\n",
    "np_y = np.array(y)\n",
    "print(\"class 0:\", len(np_y[np_y==0]))\n",
    "print(\"class 1:\", len(np_y[np_y==1]))"
   ]
  },
  {
   "cell_type": "code",
   "execution_count": 4,
   "metadata": {},
   "outputs": [],
   "source": [
    "from sklearn.model_selection import train_test_split\n",
    "\n",
    "X_train, X_rem, y_train, y_rem = train_test_split(X,y, train_size=0.6 , random_state= 42)\n",
    "X_valid, X_test, y_valid, y_test = train_test_split(X_rem,y_rem, test_size=0.5 , random_state= 42)"
   ]
  },
  {
   "cell_type": "markdown",
   "metadata": {},
   "source": [
    "Logistic Regression Training & Hyperparameter Tuning"
   ]
  },
  {
   "cell_type": "code",
   "execution_count": 5,
   "metadata": {},
   "outputs": [
    {
     "name": "stdout",
     "output_type": "stream",
     "text": [
      "Fitting 5 folds for each of 6 candidates, totalling 30 fits\n",
      "[CV 1/5; 1/6] START C=0.001.....................................................\n",
      "[CV 1/5; 1/6] END C=0.001; accuracy: (test=0.830) f1_micro: (test=0.830) total time=   3.6s\n",
      "[CV 2/5; 1/6] START C=0.001.....................................................\n",
      "[CV 2/5; 1/6] END C=0.001; accuracy: (test=0.830) f1_micro: (test=0.830) total time=   3.4s\n",
      "[CV 3/5; 1/6] START C=0.001.....................................................\n",
      "[CV 3/5; 1/6] END C=0.001; accuracy: (test=0.830) f1_micro: (test=0.830) total time=   3.7s\n",
      "[CV 4/5; 1/6] START C=0.001.....................................................\n",
      "[CV 4/5; 1/6] END C=0.001; accuracy: (test=0.830) f1_micro: (test=0.830) total time=   3.7s\n",
      "[CV 5/5; 1/6] START C=0.001.....................................................\n",
      "[CV 5/5; 1/6] END C=0.001; accuracy: (test=0.830) f1_micro: (test=0.830) total time=   3.6s\n",
      "[CV 1/5; 2/6] START C=0.01......................................................\n",
      "[CV 1/5; 2/6] END C=0.01; accuracy: (test=0.830) f1_micro: (test=0.830) total time=   3.2s\n",
      "[CV 2/5; 2/6] START C=0.01......................................................\n",
      "[CV 2/5; 2/6] END C=0.01; accuracy: (test=0.830) f1_micro: (test=0.830) total time=   3.2s\n",
      "[CV 3/5; 2/6] START C=0.01......................................................\n",
      "[CV 3/5; 2/6] END C=0.01; accuracy: (test=0.830) f1_micro: (test=0.830) total time=   3.1s\n",
      "[CV 4/5; 2/6] START C=0.01......................................................\n",
      "[CV 4/5; 2/6] END C=0.01; accuracy: (test=0.830) f1_micro: (test=0.830) total time=   3.2s\n",
      "[CV 5/5; 2/6] START C=0.01......................................................\n",
      "[CV 5/5; 2/6] END C=0.01; accuracy: (test=0.830) f1_micro: (test=0.830) total time=   3.2s\n",
      "[CV 1/5; 3/6] START C=0.1.......................................................\n",
      "[CV 1/5; 3/6] END C=0.1; accuracy: (test=0.846) f1_micro: (test=0.846) total time=   3.2s\n",
      "[CV 2/5; 3/6] START C=0.1.......................................................\n",
      "[CV 2/5; 3/6] END C=0.1; accuracy: (test=0.847) f1_micro: (test=0.847) total time=   3.0s\n",
      "[CV 3/5; 3/6] START C=0.1.......................................................\n",
      "[CV 3/5; 3/6] END C=0.1; accuracy: (test=0.844) f1_micro: (test=0.844) total time=   3.1s\n",
      "[CV 4/5; 3/6] START C=0.1.......................................................\n",
      "[CV 4/5; 3/6] END C=0.1; accuracy: (test=0.848) f1_micro: (test=0.848) total time=   3.2s\n",
      "[CV 5/5; 3/6] START C=0.1.......................................................\n",
      "[CV 5/5; 3/6] END C=0.1; accuracy: (test=0.846) f1_micro: (test=0.846) total time=   3.2s\n",
      "[CV 1/5; 4/6] START C=1.........................................................\n",
      "[CV 1/5; 4/6] END C=1; accuracy: (test=0.874) f1_micro: (test=0.874) total time=   3.1s\n",
      "[CV 2/5; 4/6] START C=1.........................................................\n",
      "[CV 2/5; 4/6] END C=1; accuracy: (test=0.880) f1_micro: (test=0.880) total time=   3.1s\n",
      "[CV 3/5; 4/6] START C=1.........................................................\n",
      "[CV 3/5; 4/6] END C=1; accuracy: (test=0.872) f1_micro: (test=0.872) total time=   3.2s\n",
      "[CV 4/5; 4/6] START C=1.........................................................\n",
      "[CV 4/5; 4/6] END C=1; accuracy: (test=0.881) f1_micro: (test=0.881) total time=   3.2s\n",
      "[CV 5/5; 4/6] START C=1.........................................................\n",
      "[CV 5/5; 4/6] END C=1; accuracy: (test=0.875) f1_micro: (test=0.875) total time=   3.1s\n",
      "[CV 1/5; 5/6] START C=2.........................................................\n",
      "[CV 1/5; 5/6] END C=2; accuracy: (test=0.877) f1_micro: (test=0.877) total time=   3.0s\n",
      "[CV 2/5; 5/6] START C=2.........................................................\n",
      "[CV 2/5; 5/6] END C=2; accuracy: (test=0.884) f1_micro: (test=0.884) total time=   3.3s\n",
      "[CV 3/5; 5/6] START C=2.........................................................\n",
      "[CV 3/5; 5/6] END C=2; accuracy: (test=0.875) f1_micro: (test=0.875) total time=   3.2s\n",
      "[CV 4/5; 5/6] START C=2.........................................................\n",
      "[CV 4/5; 5/6] END C=2; accuracy: (test=0.886) f1_micro: (test=0.886) total time=   3.2s\n",
      "[CV 5/5; 5/6] START C=2.........................................................\n",
      "[CV 5/5; 5/6] END C=2; accuracy: (test=0.880) f1_micro: (test=0.880) total time=   3.5s\n",
      "[CV 1/5; 6/6] START C=3.........................................................\n",
      "[CV 1/5; 6/6] END C=3; accuracy: (test=0.878) f1_micro: (test=0.878) total time=   3.4s\n",
      "[CV 2/5; 6/6] START C=3.........................................................\n",
      "[CV 2/5; 6/6] END C=3; accuracy: (test=0.883) f1_micro: (test=0.883) total time=   3.4s\n",
      "[CV 3/5; 6/6] START C=3.........................................................\n",
      "[CV 3/5; 6/6] END C=3; accuracy: (test=0.875) f1_micro: (test=0.875) total time=   3.2s\n",
      "[CV 4/5; 6/6] START C=3.........................................................\n",
      "[CV 4/5; 6/6] END C=3; accuracy: (test=0.887) f1_micro: (test=0.887) total time=   3.3s\n",
      "[CV 5/5; 6/6] START C=3.........................................................\n",
      "[CV 5/5; 6/6] END C=3; accuracy: (test=0.883) f1_micro: (test=0.883) total time=   3.3s\n",
      "For Logistic Regression:\n",
      "Best Estimator: LogisticRegression(C=3, multi_class='ovr', solver='liblinear')\n",
      "F-measure = 0.8812371485702709\n",
      "Accuracy = 0.8812371485702709\n"
     ]
    }
   ],
   "source": [
    "parameters = {'C':[0.001,0.01,0.1, 1 , 2 , 3]}\n",
    "model = LogisticRegression(multi_class='ovr',solver=\"liblinear\") \n",
    "linearClassifier = GridSearchCV(model, parameters, scoring = ['f1_micro','accuracy'], cv=5, refit='f1_micro' , verbose = 10)\n",
    "linearClassifier.fit(X_train, y_train)\n",
    "\n",
    "bestLinearClassifier = linearClassifier.best_estimator_\n",
    "\n",
    "print(\"For Logistic Regression:\")\n",
    "print(f\"Best Estimator: {linearClassifier.best_estimator_}\")\n",
    "print(f\"F-measure = {linearClassifier.best_score_}\")\n",
    "print(f\"Accuracy = {max(linearClassifier.cv_results_['mean_test_f1_micro'])}\")"
   ]
  },
  {
   "cell_type": "markdown",
   "metadata": {},
   "source": [
    "Testing"
   ]
  },
  {
   "cell_type": "code",
   "execution_count": 6,
   "metadata": {},
   "outputs": [
    {
     "name": "stdout",
     "output_type": "stream",
     "text": [
      "              precision    recall  f1-score   support\n",
      "\n",
      "           0       0.89      0.98      0.93      9018\n",
      "           1       0.80      0.42      0.55      1805\n",
      "\n",
      "    accuracy                           0.89     10823\n",
      "   macro avg       0.85      0.70      0.74     10823\n",
      "weighted avg       0.88      0.89      0.87     10823\n",
      "\n",
      "Accuracy = 0.8860759493670886\n",
      "f-measure = 0.7439079750032015\n"
     ]
    }
   ],
   "source": [
    "y_pred = bestLinearClassifier.predict(X_test)\n",
    "\n",
    "print(sklearn.metrics.classification_report(y_test,y_pred))\n",
    "print(f\"Accuracy = {sklearn.metrics.accuracy_score(y_test, y_pred)}\")\n",
    "print(f\"f-measure = {sklearn.metrics.f1_score(y_test, y_pred, average='macro')}\")"
   ]
  },
  {
   "cell_type": "markdown",
   "metadata": {},
   "source": [
    "Saving the model"
   ]
  },
  {
   "cell_type": "code",
   "execution_count": 7,
   "metadata": {},
   "outputs": [],
   "source": [
    "def getSavedModelPath(dirname,filename):\n",
    "  return os.path.join(os.path.abspath(os.path.join(os.getcwd(), os.pardir, os.pardir)),\"savedModels\", dirname,filename)\n",
    "\n",
    "with open(getSavedModelPath(\"posts\",\"LogisticRegression.pkl\"), 'wb') as f:\n",
    "    pickle.dump(bestLinearClassifier,f)"
   ]
  },
  {
   "cell_type": "markdown",
   "metadata": {},
   "source": [
    "Confusion Matrix"
   ]
  },
  {
   "cell_type": "code",
   "execution_count": 8,
   "metadata": {},
   "outputs": [
    {
     "name": "stdout",
     "output_type": "stream",
     "text": [
      "Confusion matrix, without normalization\n",
      "[[8827  191]\n",
      " [1042  763]]\n",
      "Normalized confusion matrix\n",
      "[[0.97882014 0.02117986]\n",
      " [0.57728532 0.42271468]]\n"
     ]
    },
    {
     "data": {
      "image/png": "[encoded data removed]",
      "text/plain": [
       "<Figure size 432x288 with 2 Axes>"
      ]
     },
     "metadata": {
      "needs_background": "light"
     },
     "output_type": "display_data"
    },
    {
     "data": {
      "image/png": "[encoded data removed]",
      "text/plain": [
       "<Figure size 432x288 with 2 Axes>"
      ]
     },
     "metadata": {
      "needs_background": "light"
     },
     "output_type": "display_data"
    }
   ],
   "source": [
    "import matplotlib.pyplot as plot\n",
    "from sklearn.metrics import ConfusionMatrixDisplay\n",
    "\n",
    "title_options = [\n",
    "    (\"Confusion matrix, without normalization\", None),\n",
    "    (\"Normalized confusion matrix\", \"true\"),\n",
    "]\n",
    "for title, normalize in title_options:\n",
    "    display = ConfusionMatrixDisplay.from_estimator(\n",
    "        bestLinearClassifier,\n",
    "        X_test,\n",
    "        y_test,\n",
    "        display_labels=[\"Bot\" , \"Normal User\"],\n",
    "        cmap=plot.cm.Blues,\n",
    "        normalize=normalize,\n",
    "    )\n",
    "    display.ax_.set_title(title)\n",
    "\n",
    "    print(title)\n",
    "    print(display.confusion_matrix)\n",
    "\n",
    "plot.show()\n"
   ]
  },
  {
   "cell_type": "markdown",
   "metadata": {},
   "source": [
    "Learning Curve"
   ]
  },
  {
   "cell_type": "code",
   "execution_count": 9,
   "metadata": {},
   "outputs": [
    {
     "name": "stdout",
     "output_type": "stream",
     "text": [
      "[learning_curve] Training set sizes: [  292   882  1472  2063  2653  3244  3834  4424  5015  5605  6196  6786\n",
      "  7376  7967  8557  9147  9738 10328 10919 11509 12099 12690 13280 13871\n",
      " 14461 15051 15642 16232 16822 17413 18003 18594 19184 19774 20365 20955\n",
      " 21546 22136 22726 23317 23907 24497 25088 25678 26269 26859 27449 28040\n",
      " 28630 29221]\n"
     ]
    },
    {
     "name": "stderr",
     "output_type": "stream",
     "text": [
      "[Parallel(n_jobs=1)]: Using backend SequentialBackend with 1 concurrent workers.\n",
      "[Parallel(n_jobs=1)]: Done 500 out of 500 | elapsed: 24.0min finished\n"
     ]
    },
    {
     "data": {
      "image/png": "[encoded data removed]",
      "text/plain": [
       "<Figure size 432x288 with 1 Axes>"
      ]
     },
     "metadata": {
      "needs_background": "light"
     },
     "output_type": "display_data"
    }
   ],
   "source": [
    "from sklearn.model_selection import learning_curve\n",
    "import matplotlib.pyplot as plt\n",
    "\n",
    "train_size, train_score, test_scores = learning_curve(bestLinearClassifier, X_train, y_train, cv = 10, scoring='accuracy', n_jobs=1, train_sizes=np.linspace(0.01, 1, 50), verbose=1)\n",
    "mean_train = np.mean(train_score , axis = 1)\n",
    "mean_test = np.mean(test_scores , axis = 1)\n",
    "plt.plot(train_size, 1-mean_train, label='Training score')\n",
    "plt.plot(train_size, 1-mean_test, label='Cross-validation score')\n",
    "plt.xlabel('Training Size')\n",
    "plt.ylabel('Score')\n",
    "plt.title('Learning Curve')\n",
    "plt.legend()\n",
    "plt.show()"
   ]
  }
 ],
 "metadata": {
  "interpreter": {
   "hash": "de6ff951bef0339bc88a2ed79bdf78947cbc6531509306936c69548d8895ab6c"
  },
  "kernelspec": {
   "display_name": "Python 3.8.10 ('env': venv)",
   "language": "python",
   "name": "python3"
  },
  "language_info": {
   "codemirror_mode": {
    "name": "ipython",
    "version": 3
   },
   "file_extension": ".py",
   "mimetype": "text/x-python",
   "name": "python",
   "nbconvert_exporter": "python",
   "pygments_lexer": "ipython3",
   "version": "3.8.10"
  },
  "orig_nbformat": 4
 },
 "nbformat": 4,
 "nbformat_minor": 2
}
