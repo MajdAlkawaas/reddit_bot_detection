{
 "cells": [
  {
   "cell_type": "code",
   "execution_count": 2,
   "metadata": {},
   "outputs": [],
   "source": [
    "import sklearn\n",
    "from sklearn.svm import SVC\n",
    "from sklearn.model_selection import GridSearchCV\n",
    "import numpy as np\n",
    "import pickle\n",
    "import os\n",
    "import matplotlib.pyplot as plt"
   ]
  },
  {
   "cell_type": "markdown",
   "metadata": {},
   "source": [
    "## Preparing Data\n",
    "60% training, 20% validation, and 20% testing"
   ]
  },
  {
   "cell_type": "code",
   "execution_count": 9,
   "metadata": {},
   "outputs": [],
   "source": [
    "# TODO: Move these two functions to a shared file for helper functions\n",
    "def unPickleData(filename):\n",
    "  with open(filename,'rb') as f: arr = pickle.load(f)\n",
    "  return arr\n",
    "\n",
    "def getDataPath(dirname,filename):\n",
    "  return os.path.join(os.path.abspath(os.path.join(os.getcwd(), os.pardir, os.pardir)),\"processed_data\", dirname,filename)\n",
    "\n",
    "x_data = unPickleData(getDataPath(\"posts\",\"X_posts_sub.pkl\"))\n",
    "y_data = unPickleData(getDataPath(\"posts\",\"Y_posts_sub.pkl\"))\n",
    "\n",
    "n = len(x_data)\n",
    "x_data_training = x_data[:int(0.6*n)]\n",
    "x_data_validation = x_data[int(0.6*n):int(0.8*n)]\n",
    "x_data_testing = x_data[int(0.8*n):]\n",
    "\n",
    "y_data_training = y_data[:int(0.6*n)]\n",
    "y_data_validation = y_data[int(0.6*n):int(0.8*n)]\n",
    "y_data_testing = y_data[int(0.8*n):]"
   ]
  },
  {
   "cell_type": "markdown",
   "metadata": {},
   "source": [
    "## Training"
   ]
  },
  {
   "cell_type": "code",
   "execution_count": 10,
   "metadata": {},
   "outputs": [
    {
     "data": {
      "text/plain": [
       "SVC(kernel='linear')"
      ]
     },
     "execution_count": 10,
     "metadata": {},
     "output_type": "execute_result"
    }
   ],
   "source": [
    "model_lin = SVC(kernel=\"linear\")\n",
    "model_lin.fit(x_data_training, y_data_training)"
   ]
  },
  {
   "cell_type": "markdown",
   "metadata": {},
   "source": [
    "## Learning Curve for Linear SVM"
   ]
  },
  {
   "cell_type": "code",
   "execution_count": 11,
   "metadata": {},
   "outputs": [
    {
     "data": {
      "text/plain": [
       "[<matplotlib.lines.Line2D at 0x21c25c70670>]"
      ]
     },
     "execution_count": 11,
     "metadata": {},
     "output_type": "execute_result"
    },
    {
     "data": {
      "image/png": "[encoded data removed]",
      "text/plain": [
       "<Figure size 432x288 with 1 Axes>"
      ]
     },
     "metadata": {
      "needs_background": "light"
     },
     "output_type": "display_data"
    }
   ],
   "source": [
    "train_sizes, train_scores, test_scores = sklearn.model_selection.learning_curve(model_lin,x_data_training,y_data_training)\n",
    "plt.plot(train_sizes,np.mean(train_scores,axis=1))\n",
    "plt.plot(train_sizes,np.mean(test_scores,axis=1))"
   ]
  },
  {
   "cell_type": "code",
   "execution_count": 12,
   "metadata": {},
   "outputs": [
    {
     "data": {
      "text/plain": [
       "SVC(kernel='poly')"
      ]
     },
     "execution_count": 12,
     "metadata": {},
     "output_type": "execute_result"
    }
   ],
   "source": [
    "model_poly = SVC(kernel=\"poly\")\n",
    "model_poly.fit(x_data_training, y_data_training)"
   ]
  },
  {
   "cell_type": "markdown",
   "metadata": {},
   "source": [
    "## Learning Curve for Polynomial SVM"
   ]
  },
  {
   "cell_type": "code",
   "execution_count": 13,
   "metadata": {},
   "outputs": [
    {
     "data": {
      "text/plain": [
       "[<matplotlib.lines.Line2D at 0x21c25cd7100>]"
      ]
     },
     "execution_count": 13,
     "metadata": {},
     "output_type": "execute_result"
    },
    {
     "data": {
      "image/png": "[encoded data removed]",
      "text/plain": [
       "<Figure size 432x288 with 1 Axes>"
      ]
     },
     "metadata": {
      "needs_background": "light"
     },
     "output_type": "display_data"
    }
   ],
   "source": [
    "train_sizes, train_scores, test_scores = sklearn.model_selection.learning_curve(model_poly,x_data_training,y_data_training)\n",
    "plt.plot(train_sizes,np.mean(train_scores,axis=1))\n",
    "plt.plot(train_sizes,np.mean(test_scores,axis=1))"
   ]
  },
  {
   "cell_type": "markdown",
   "metadata": {},
   "source": [
    "## Model Selection"
   ]
  },
  {
   "cell_type": "code",
   "execution_count": 14,
   "metadata": {},
   "outputs": [],
   "source": [
    "grid = {\"C\":np.logspace(-3,3,100)}\n",
    "\n",
    "search = GridSearchCV(model_lin,grid,cv=10)\n",
    "search.fit(x_data_validation,y_data_validation)\n",
    "\n",
    "print(\"Tuned hpyerparameters :(best parameters) \",search.best_params_)\n",
    "print(\"Accuracy :\",search.best_score_)\n",
    "\n",
    "best_model_lin = search.best_estimator_"
   ]
  },
  {
   "cell_type": "code",
   "execution_count": null,
   "metadata": {},
   "outputs": [
    {
     "name": "stdout",
     "output_type": "stream",
     "text": [
      "Tuned hpyerparameters :(best parameters)  {'C': 0.46415888336127775, 'coef0': 1.0, 'degree': 4, 'gamma': 'scale'}\n",
      "Accuracy : 0.8906896551724138\n"
     ]
    }
   ],
   "source": [
    "grid = {'C':np.logspace(-3,3,10), 'degree':[1,2,3,4,5], 'gamma':['scale', 'auto'], 'coef0':np.logspace(0,1,10)}\n",
    "\n",
    "search = GridSearchCV(model_poly,grid,cv=10)\n",
    "search.fit(x_data_validation,y_data_validation)\n",
    "\n",
    "print(\"Tuned hpyerparameters :(best parameters) \",search.best_params_)\n",
    "print(\"Accuracy :\",search.best_score_)\n",
    "\n",
    "best_model_poly = search.best_estimator_"
   ]
  },
  {
   "cell_type": "markdown",
   "metadata": {},
   "source": [
    "## Testing"
   ]
  },
  {
   "cell_type": "code",
   "execution_count": null,
   "metadata": {},
   "outputs": [
    {
     "name": "stdout",
     "output_type": "stream",
     "text": [
      "              precision    recall  f1-score   support\n",
      "\n",
      "           0       0.89      1.00      0.94       218\n",
      "           1       1.00      0.64      0.78        75\n",
      "\n",
      "    accuracy                           0.91       293\n",
      "   macro avg       0.94      0.82      0.86       293\n",
      "weighted avg       0.92      0.91      0.90       293\n",
      "\n",
      "Accuracy:  0.9078498293515358\n"
     ]
    }
   ],
   "source": [
    "y_pred = best_model_lin.predict(x_data_testing)\n",
    "\n",
    "print(sklearn.metrics.classification_report(y_data_testing,y_pred))\n",
    "print(\"Accuracy: \", sklearn.metrics.accuracy_score(y_data_testing, y_pred))"
   ]
  },
  {
   "cell_type": "code",
   "execution_count": null,
   "metadata": {},
   "outputs": [
    {
     "name": "stdout",
     "output_type": "stream",
     "text": [
      "              precision    recall  f1-score   support\n",
      "\n",
      "           0       0.88      0.99      0.93       218\n",
      "           1       0.94      0.63      0.75        75\n",
      "\n",
      "    accuracy                           0.89       293\n",
      "   macro avg       0.91      0.81      0.84       293\n",
      "weighted avg       0.90      0.89      0.89       293\n",
      "\n",
      "Accuracy:  0.89419795221843\n"
     ]
    }
   ],
   "source": [
    "y_pred = best_model_poly.predict(x_data_testing)\n",
    "\n",
    "print(sklearn.metrics.classification_report(y_data_testing,y_pred))\n",
    "print(\"Accuracy: \", sklearn.metrics.accuracy_score(y_data_testing, y_pred))"
   ]
  }
 ],
 "metadata": {
  "interpreter": {
   "hash": "1d79ee5334178d558789f22e348b45f2654e64cb826454f5f26bfdb3d14cc171"
  },
  "kernelspec": {
   "display_name": "Python 3.9.12 64-bit (windows store)",
   "language": "python",
   "name": "python3"
  },
  "language_info": {
   "codemirror_mode": {
    "name": "ipython",
    "version": 3
   },
   "file_extension": ".py",
   "mimetype": "text/x-python",
   "name": "python",
   "nbconvert_exporter": "python",
   "pygments_lexer": "ipython3",
   "version": "3.9.12"
  },
  "orig_nbformat": 4
 },
 "nbformat": 4,
 "nbformat_minor": 2
}
