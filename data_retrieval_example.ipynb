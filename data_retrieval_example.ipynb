{
 "cells": [
  {
   "cell_type": "markdown",
   "metadata": {},
   "source": [
    "# Data Retrieval Example\n",
    "\n",
    "## requirements:\n",
    "- install praw using the following command `!pip install praw`. Don't use conda for this specific model.\n",
    "- install beautifulsoup using the following command `!pip install bs4`\n",
    "- install requests if you don't have in your development environment \n",
    "\n",
    "## References:\n",
    "- https://towardsdatascience.com/how-to-use-the-reddit-api-in-python-5e05ddfd1e5c\n",
    "- https://www.reddit.com/dev/api\n",
    "- https://praw.readthedocs.io/en/stable/index.html\n"
   ]
  },
  {
   "cell_type": "code",
   "execution_count": 2,
   "metadata": {},
   "outputs": [],
   "source": [
    "# %pip install praw\n",
    "# %pip install pandas\n",
    "import praw\n",
    "import pandas as pd\n",
    "import requests\n",
    "import bs4"
   ]
  },
  {
   "cell_type": "markdown",
   "metadata": {},
   "source": [
    "## Connecting to the reddit API using `requests`\n",
    "\n",
    "### Steps:\n",
    "- create an app on reddit to acquire the access credentials:\n",
    "    - `PASSWORD` password of the reddit account used to create the app\n",
    "    - `USERNAME` username of the reddit account used to create the app\n",
    "    - `CLIENT_ID` acquired after creating the app\n",
    "    - `SECRET_TOKEN` acquired after creating the app\n"
   ]
  },
  {
   "cell_type": "code",
   "execution_count": 3,
   "metadata": {},
   "outputs": [],
   "source": [
    "PASSWORD = 'j=HUZ`6S8B'\n",
    "USERNAME = 'CMPS287_project'\n",
    "CLIENT_ID = 'd5w9jc7mmyeLEL2DG1wtxg'\n",
    "SECRET_TOKEN = 'HIOuTew4HunOVSJeFT47Yi4sCkdBCA' \n",
    "# note that CLIENT_ID refers to 'personal use script' and SECRET_TOKEN to 'token'\n",
    "auth = requests.auth.HTTPBasicAuth(CLIENT_ID, SECRET_TOKEN)\n",
    "\n",
    "# here we pass our login method (password), username, and password\n",
    "data = {'grant_type': 'password',\n",
    "        'username': USERNAME,\n",
    "        'password': PASSWORD }\n",
    "\n",
    "# setup our header info, which gives reddit a brief description of our app\n",
    "headers = {'User-Agent': 'MyAPI/0.0.1'}\n",
    "\n",
    "# send our request for an OAuth token\n",
    "res = requests.post('https://www.reddit.com/api/v1/access_token',\n",
    "                    auth=auth, data=data, headers=headers)\n",
    "\n",
    "# convert response to JSON and pull access_token value\n",
    "TOKEN = res.json()['access_token']\n",
    "\n",
    "# add authorization to our headers dictionary\n",
    "headers = {**headers, **{'Authorization': f\"bearer {TOKEN}\"}}\n",
    "\n",
    "# while the token is valid (~2 hours) we just add headers=headers to our requests\n",
    "response_josn = requests.get('https://oauth.reddit.com/api/v1/me', headers=headers).json()\n",
    "\n",
    "# To see the response just print response_json\n",
    "# print(response_josn)"
   ]
  },
  {
   "cell_type": "code",
   "execution_count": 4,
   "metadata": {},
   "outputs": [
    {
     "name": "stderr",
     "output_type": "stream",
     "text": [
      "C:\\Users\\Dell\\AppData\\Local\\Temp\\ipykernel_16168\\3567365612.py:13: FutureWarning: The frame.append method is deprecated and will be removed from pandas in a future version. Use pandas.concat instead.\n",
      "  df = df.append({\n",
      "C:\\Users\\Dell\\AppData\\Local\\Temp\\ipykernel_16168\\3567365612.py:13: FutureWarning: The frame.append method is deprecated and will be removed from pandas in a future version. Use pandas.concat instead.\n",
      "  df = df.append({\n",
      "C:\\Users\\Dell\\AppData\\Local\\Temp\\ipykernel_16168\\3567365612.py:13: FutureWarning: The frame.append method is deprecated and will be removed from pandas in a future version. Use pandas.concat instead.\n",
      "  df = df.append({\n",
      "C:\\Users\\Dell\\AppData\\Local\\Temp\\ipykernel_16168\\3567365612.py:13: FutureWarning: The frame.append method is deprecated and will be removed from pandas in a future version. Use pandas.concat instead.\n",
      "  df = df.append({\n",
      "C:\\Users\\Dell\\AppData\\Local\\Temp\\ipykernel_16168\\3567365612.py:13: FutureWarning: The frame.append method is deprecated and will be removed from pandas in a future version. Use pandas.concat instead.\n",
      "  df = df.append({\n",
      "C:\\Users\\Dell\\AppData\\Local\\Temp\\ipykernel_16168\\3567365612.py:13: FutureWarning: The frame.append method is deprecated and will be removed from pandas in a future version. Use pandas.concat instead.\n",
      "  df = df.append({\n",
      "C:\\Users\\Dell\\AppData\\Local\\Temp\\ipykernel_16168\\3567365612.py:13: FutureWarning: The frame.append method is deprecated and will be removed from pandas in a future version. Use pandas.concat instead.\n",
      "  df = df.append({\n",
      "C:\\Users\\Dell\\AppData\\Local\\Temp\\ipykernel_16168\\3567365612.py:13: FutureWarning: The frame.append method is deprecated and will be removed from pandas in a future version. Use pandas.concat instead.\n",
      "  df = df.append({\n",
      "C:\\Users\\Dell\\AppData\\Local\\Temp\\ipykernel_16168\\3567365612.py:13: FutureWarning: The frame.append method is deprecated and will be removed from pandas in a future version. Use pandas.concat instead.\n",
      "  df = df.append({\n",
      "C:\\Users\\Dell\\AppData\\Local\\Temp\\ipykernel_16168\\3567365612.py:13: FutureWarning: The frame.append method is deprecated and will be removed from pandas in a future version. Use pandas.concat instead.\n",
      "  df = df.append({\n",
      "C:\\Users\\Dell\\AppData\\Local\\Temp\\ipykernel_16168\\3567365612.py:13: FutureWarning: The frame.append method is deprecated and will be removed from pandas in a future version. Use pandas.concat instead.\n",
      "  df = df.append({\n",
      "C:\\Users\\Dell\\AppData\\Local\\Temp\\ipykernel_16168\\3567365612.py:13: FutureWarning: The frame.append method is deprecated and will be removed from pandas in a future version. Use pandas.concat instead.\n",
      "  df = df.append({\n",
      "C:\\Users\\Dell\\AppData\\Local\\Temp\\ipykernel_16168\\3567365612.py:13: FutureWarning: The frame.append method is deprecated and will be removed from pandas in a future version. Use pandas.concat instead.\n",
      "  df = df.append({\n",
      "C:\\Users\\Dell\\AppData\\Local\\Temp\\ipykernel_16168\\3567365612.py:13: FutureWarning: The frame.append method is deprecated and will be removed from pandas in a future version. Use pandas.concat instead.\n",
      "  df = df.append({\n",
      "C:\\Users\\Dell\\AppData\\Local\\Temp\\ipykernel_16168\\3567365612.py:13: FutureWarning: The frame.append method is deprecated and will be removed from pandas in a future version. Use pandas.concat instead.\n",
      "  df = df.append({\n",
      "C:\\Users\\Dell\\AppData\\Local\\Temp\\ipykernel_16168\\3567365612.py:13: FutureWarning: The frame.append method is deprecated and will be removed from pandas in a future version. Use pandas.concat instead.\n",
      "  df = df.append({\n",
      "C:\\Users\\Dell\\AppData\\Local\\Temp\\ipykernel_16168\\3567365612.py:13: FutureWarning: The frame.append method is deprecated and will be removed from pandas in a future version. Use pandas.concat instead.\n",
      "  df = df.append({\n",
      "C:\\Users\\Dell\\AppData\\Local\\Temp\\ipykernel_16168\\3567365612.py:13: FutureWarning: The frame.append method is deprecated and will be removed from pandas in a future version. Use pandas.concat instead.\n",
      "  df = df.append({\n",
      "C:\\Users\\Dell\\AppData\\Local\\Temp\\ipykernel_16168\\3567365612.py:13: FutureWarning: The frame.append method is deprecated and will be removed from pandas in a future version. Use pandas.concat instead.\n",
      "  df = df.append({\n",
      "C:\\Users\\Dell\\AppData\\Local\\Temp\\ipykernel_16168\\3567365612.py:13: FutureWarning: The frame.append method is deprecated and will be removed from pandas in a future version. Use pandas.concat instead.\n",
      "  df = df.append({\n",
      "C:\\Users\\Dell\\AppData\\Local\\Temp\\ipykernel_16168\\3567365612.py:13: FutureWarning: The frame.append method is deprecated and will be removed from pandas in a future version. Use pandas.concat instead.\n",
      "  df = df.append({\n",
      "C:\\Users\\Dell\\AppData\\Local\\Temp\\ipykernel_16168\\3567365612.py:13: FutureWarning: The frame.append method is deprecated and will be removed from pandas in a future version. Use pandas.concat instead.\n",
      "  df = df.append({\n",
      "C:\\Users\\Dell\\AppData\\Local\\Temp\\ipykernel_16168\\3567365612.py:13: FutureWarning: The frame.append method is deprecated and will be removed from pandas in a future version. Use pandas.concat instead.\n",
      "  df = df.append({\n",
      "C:\\Users\\Dell\\AppData\\Local\\Temp\\ipykernel_16168\\3567365612.py:13: FutureWarning: The frame.append method is deprecated and will be removed from pandas in a future version. Use pandas.concat instead.\n",
      "  df = df.append({\n",
      "C:\\Users\\Dell\\AppData\\Local\\Temp\\ipykernel_16168\\3567365612.py:13: FutureWarning: The frame.append method is deprecated and will be removed from pandas in a future version. Use pandas.concat instead.\n",
      "  df = df.append({\n",
      "C:\\Users\\Dell\\AppData\\Local\\Temp\\ipykernel_16168\\3567365612.py:13: FutureWarning: The frame.append method is deprecated and will be removed from pandas in a future version. Use pandas.concat instead.\n",
      "  df = df.append({\n",
      "C:\\Users\\Dell\\AppData\\Local\\Temp\\ipykernel_16168\\3567365612.py:13: FutureWarning: The frame.append method is deprecated and will be removed from pandas in a future version. Use pandas.concat instead.\n",
      "  df = df.append({\n"
     ]
    }
   ],
   "source": [
    "hot = \"https://oauth.reddit.com/r/python/hot\"\n",
    "\n",
    "\n",
    "# make a request for the trending posts in /r/Python\n",
    "res = requests.get(\"https://oauth.reddit.com/r/python/hot\",\n",
    "                   headers=headers)\n",
    "\n",
    "df = pd.DataFrame()  # initialize dataframe\n",
    "\n",
    "# loop through each post retrieved from GET request\n",
    "for post in res.json()['data']['children']:\n",
    "    # append relevant data to dataframe\n",
    "    df = df.append({\n",
    "        'subreddit': post['data']['subreddit'],\n",
    "        'title': post['data']['title'],\n",
    "        'selftext': post['data']['selftext'],\n",
    "        'upvote_ratio': post['data']['upvote_ratio'],\n",
    "        'ups': post['data']['ups'],\n",
    "        'downs': post['data']['downs'],\n",
    "        'score': post['data']['score']\n",
    "    }, ignore_index=True)\n"
   ]
  },
  {
   "cell_type": "code",
   "execution_count": 5,
   "metadata": {},
   "outputs": [
    {
     "data": {
      "text/html": [
       "<div>\n",
       "<style scoped>\n",
       "    .dataframe tbody tr th:only-of-type {\n",
       "        vertical-align: middle;\n",
       "    }\n",
       "\n",
       "    .dataframe tbody tr th {\n",
       "        vertical-align: top;\n",
       "    }\n",
       "\n",
       "    .dataframe thead th {\n",
       "        text-align: right;\n",
       "    }\n",
       "</style>\n",
       "<table border=\"1\" class=\"dataframe\">\n",
       "  <thead>\n",
       "    <tr style=\"text-align: right;\">\n",
       "      <th></th>\n",
       "      <th>subreddit</th>\n",
       "      <th>title</th>\n",
       "      <th>selftext</th>\n",
       "      <th>upvote_ratio</th>\n",
       "      <th>ups</th>\n",
       "      <th>downs</th>\n",
       "      <th>score</th>\n",
       "    </tr>\n",
       "  </thead>\n",
       "  <tbody>\n",
       "    <tr>\n",
       "      <th>0</th>\n",
       "      <td>Python</td>\n",
       "      <td>Sunday Daily Thread: What's everyone working o...</td>\n",
       "      <td>Tell /r/python what you're working on this wee...</td>\n",
       "      <td>0.83</td>\n",
       "      <td>13</td>\n",
       "      <td>0</td>\n",
       "      <td>13</td>\n",
       "    </tr>\n",
       "    <tr>\n",
       "      <th>1</th>\n",
       "      <td>Python</td>\n",
       "      <td>Wednesday Daily Thread: Beginner questions</td>\n",
       "      <td>New to Python and have questions? Use this thr...</td>\n",
       "      <td>1.00</td>\n",
       "      <td>1</td>\n",
       "      <td>0</td>\n",
       "      <td>1</td>\n",
       "    </tr>\n",
       "    <tr>\n",
       "      <th>2</th>\n",
       "      <td>Python</td>\n",
       "      <td>Name a better learning resource than Schafer C...</td>\n",
       "      <td>I am really amazed by Schafer Corey on YouTube...</td>\n",
       "      <td>0.84</td>\n",
       "      <td>516</td>\n",
       "      <td>0</td>\n",
       "      <td>516</td>\n",
       "    </tr>\n",
       "    <tr>\n",
       "      <th>3</th>\n",
       "      <td>Python</td>\n",
       "      <td>Do you have hundreds of old and embarrassing t...</td>\n",
       "      <td>I made a Python script to delete old tweets. G...</td>\n",
       "      <td>0.91</td>\n",
       "      <td>16</td>\n",
       "      <td>0</td>\n",
       "      <td>16</td>\n",
       "    </tr>\n",
       "    <tr>\n",
       "      <th>4</th>\n",
       "      <td>Python</td>\n",
       "      <td>Here is a script that turns your pc off when a...</td>\n",
       "      <td>Here is a script that turns off your computer ...</td>\n",
       "      <td>0.73</td>\n",
       "      <td>15</td>\n",
       "      <td>0</td>\n",
       "      <td>15</td>\n",
       "    </tr>\n",
       "  </tbody>\n",
       "</table>\n",
       "</div>"
      ],
      "text/plain": [
       "  subreddit                                              title  \\\n",
       "0    Python  Sunday Daily Thread: What's everyone working o...   \n",
       "1    Python         Wednesday Daily Thread: Beginner questions   \n",
       "2    Python  Name a better learning resource than Schafer C...   \n",
       "3    Python  Do you have hundreds of old and embarrassing t...   \n",
       "4    Python  Here is a script that turns your pc off when a...   \n",
       "\n",
       "                                            selftext  upvote_ratio  ups  \\\n",
       "0  Tell /r/python what you're working on this wee...          0.83   13   \n",
       "1  New to Python and have questions? Use this thr...          1.00    1   \n",
       "2  I am really amazed by Schafer Corey on YouTube...          0.84  516   \n",
       "3  I made a Python script to delete old tweets. G...          0.91   16   \n",
       "4  Here is a script that turns off your computer ...          0.73   15   \n",
       "\n",
       "   downs  score  \n",
       "0      0     13  \n",
       "1      0      1  \n",
       "2      0    516  \n",
       "3      0     16  \n",
       "4      0     15  "
      ]
     },
     "execution_count": 5,
     "metadata": {},
     "output_type": "execute_result"
    }
   ],
   "source": [
    "df.head()"
   ]
  },
  {
   "cell_type": "code",
   "execution_count": 6,
   "metadata": {},
   "outputs": [
    {
     "name": "stdout",
     "output_type": "stream",
     "text": [
      "terrerific\n",
      "_RC101_\n",
      "Arnoxthe1\n",
      "This____One\n",
      "MonkeyElephant34\n",
      "charfish7377\n",
      "Drbatnanaman\n",
      "Boring-Surprise\n",
      "oneloudbanana\n",
      "psycho_twinkie\n",
      "heartandliver\n",
      "Ingest_TheAffluent\n",
      "Von-Jerry\n",
      "Kashy2k\n",
      "vampireinamirrormaze\n",
      "PlzEndMyMiserableExi\n",
      "YeetMaFeetBois\n",
      "wanxta\n",
      "t_4_ll_4_t\n",
      "Inaerius\n",
      "Majestic-Switch6302\n",
      "Jared_Usbourne\n",
      "TheBathtubSalesMan\n",
      "Little_Transition_24\n",
      "ChunkofWhat\n"
     ]
    }
   ],
   "source": [
    "# getting usernames of the hot posts\n",
    "authors_contributors = \"https://oauth.reddit.com/r/explainlikeimfive/hot\"\n",
    "\n",
    "# make a request for the trending posts in /r/Python\n",
    "res = requests.get(authors_contributors, headers=headers)\n",
    "\n",
    "respons_json = res.json()['data']['children']\n",
    "\n",
    "for i in range(len(respons_json)):\n",
    "    print(respons_json[i]['data']['author'])"
   ]
  },
  {
   "cell_type": "markdown",
   "metadata": {},
   "source": [
    "## Example using praw library\n",
    "- praw library is the python Reddit API wrapper\n",
    "- We use the same access credentials we used in the previous example"
   ]
  },
  {
   "cell_type": "code",
   "execution_count": 7,
   "metadata": {},
   "outputs": [
    {
     "name": "stdout",
     "output_type": "stream",
     "text": [
      "True\n",
      "Ask Anything Monday - Weekly Thread\n",
      "What is difficult in excel but easy in Python?\n",
      "Supposed to create tests for a massive project, how should I go about it?\n",
      "How to make a web game bot?\n",
      "What is the purpose of assigning to somelist[:] rather than just somelist?\n",
      "Checking for enter key pressed\n",
      "Plz explain why python returns an error here (regarding local & global scopes)\n",
      "Import a module partially and fully in same file\n",
      "do they really want the students to use code that doesn't work?\n",
      "People who use decorators, generators, list compression, or lambda functions, do you work alone?\n"
     ]
    }
   ],
   "source": [
    "reddit = praw.Reddit(client_id     = CLIENT_ID,\n",
    "                     client_secret = SECRET_TOKEN,\n",
    "                     user_agent    = 'MyAPI/0.0.1')\n",
    "\n",
    "# To test if your instance is working use:\n",
    "print(reddit.read_only) # Output: True\n",
    "\n",
    "for submission in reddit.subreddit(\"learnpython\").hot(limit=10):\n",
    "    print(submission.title)"
   ]
  },
  {
   "cell_type": "code",
   "execution_count": 8,
   "metadata": {},
   "outputs": [
    {
     "name": "stdout",
     "output_type": "stream",
     "text": [
      "autowikibot/botlist\n",
      "autowikibot/commandlist\n",
      "autowikibot/config/description\n",
      "autowikibot/config/sidebar\n",
      "autowikibot/config/stylesheet\n",
      "autowikibot/config/submit_text\n",
      "autowikibot/css\n",
      "autowikibot/excludedsubs\n",
      "autowikibot/index\n",
      "autowikibot/livelists\n",
      "autowikibot/modfaqs\n",
      "autowikibot/nsfwtag\n",
      "autowikibot/planned\n",
      "autowikibot/redditbots\n",
      "autowikibot/rootonlysubs\n",
      "autowikibot/statistics\n",
      "autowikibot/summon\n",
      "autowikibot/summononlysubs\n",
      "autowikibot/userblacklist\n"
     ]
    }
   ],
   "source": [
    "#  getting the wikipages of the r/autowikibot subreddit\n",
    "#  link to the subreddit http://www.reddit.com/user/autowikibot\n",
    "\n",
    "for wikipage in reddit.subreddit(\"autowikibot\").wiki:\n",
    "    print(wikipage)"
   ]
  },
  {
   "cell_type": "code",
   "execution_count": 9,
   "metadata": {},
   "outputs": [],
   "source": [
    "# getting the content of a specific wikipage in the r/autowikibot subreddit\n",
    "# link to the wikipage we are requesting https://www.reddit.com/r/autowikibot/wiki/redditbots\n",
    "wikipage = reddit.subreddit(\"autowikibot\").wiki[\"redditbots\"]\n",
    "\n",
    "# print the content of the page\n",
    "# print(wikipage.content_md)"
   ]
  },
  {
   "cell_type": "markdown",
   "metadata": {},
   "source": [
    "## Using BeautifulSoup"
   ]
  },
  {
   "cell_type": "code",
   "execution_count": 10,
   "metadata": {},
   "outputs": [
    {
     "data": {
      "text/plain": [
       "399"
      ]
     },
     "execution_count": 10,
     "metadata": {},
     "output_type": "execute_result"
    }
   ],
   "source": [
    "url = \"https://www.reddit.com/r/autowikibot/wiki/redditbots\"\n",
    "# Headers to mimic a browser visit\n",
    "headers = {'User-Agent': 'Mozilla/5.0'}\n",
    "\n",
    "# Returns a requests.models.Response object\n",
    "page = requests.get(url, headers=headers)\n",
    "\n",
    "soup = bs4.BeautifulSoup(page.text, 'html.parser')\n",
    "a_tags = soup.select(\"table tbody td a\")\n",
    "\n",
    "bots_usrnames = []\n",
    "for i in range(len(a_tags)):\n",
    "    href = a_tags[i].attrs['href']\n",
    "    if href.startswith('/u/'):\n",
    "        # print(href)\n",
    "        bots_usrnames.append(href)\n",
    "len(bots_usrnames)"
   ]
  },
  {
   "cell_type": "markdown",
   "metadata": {},
   "source": [
    "## Using BeautifulSoup and Pandas\n",
    "\n",
    "- Pandas provide a `read_html()` function that takes a webpage url and returns a list of dataframes created form the tables that exist in the said webpage.\n",
    "- I am using here bs4 to parse the webpage and passing the soup object which is the parsed html page I am doing this instead of passing the url to the function because the parser that is integrated with the function is bad."
   ]
  },
  {
   "cell_type": "code",
   "execution_count": 11,
   "metadata": {},
   "outputs": [
    {
     "data": {
      "text/html": [
       "<div>\n",
       "<style scoped>\n",
       "    .dataframe tbody tr th:only-of-type {\n",
       "        vertical-align: middle;\n",
       "    }\n",
       "\n",
       "    .dataframe tbody tr th {\n",
       "        vertical-align: top;\n",
       "    }\n",
       "\n",
       "    .dataframe thead th {\n",
       "        text-align: right;\n",
       "    }\n",
       "</style>\n",
       "<table border=\"1\" class=\"dataframe\">\n",
       "  <thead>\n",
       "    <tr style=\"text-align: right;\">\n",
       "      <th></th>\n",
       "      <th>subreddit</th>\n",
       "      <th>title</th>\n",
       "      <th>selftext</th>\n",
       "      <th>upvote_ratio</th>\n",
       "      <th>ups</th>\n",
       "      <th>downs</th>\n",
       "      <th>score</th>\n",
       "    </tr>\n",
       "  </thead>\n",
       "  <tbody>\n",
       "    <tr>\n",
       "      <th>0</th>\n",
       "      <td>Python</td>\n",
       "      <td>Sunday Daily Thread: What's everyone working o...</td>\n",
       "      <td>Tell /r/python what you're working on this wee...</td>\n",
       "      <td>0.83</td>\n",
       "      <td>13</td>\n",
       "      <td>0</td>\n",
       "      <td>13</td>\n",
       "    </tr>\n",
       "    <tr>\n",
       "      <th>1</th>\n",
       "      <td>Python</td>\n",
       "      <td>Wednesday Daily Thread: Beginner questions</td>\n",
       "      <td>New to Python and have questions? Use this thr...</td>\n",
       "      <td>1.00</td>\n",
       "      <td>1</td>\n",
       "      <td>0</td>\n",
       "      <td>1</td>\n",
       "    </tr>\n",
       "    <tr>\n",
       "      <th>2</th>\n",
       "      <td>Python</td>\n",
       "      <td>Name a better learning resource than Schafer C...</td>\n",
       "      <td>I am really amazed by Schafer Corey on YouTube...</td>\n",
       "      <td>0.84</td>\n",
       "      <td>516</td>\n",
       "      <td>0</td>\n",
       "      <td>516</td>\n",
       "    </tr>\n",
       "    <tr>\n",
       "      <th>3</th>\n",
       "      <td>Python</td>\n",
       "      <td>Do you have hundreds of old and embarrassing t...</td>\n",
       "      <td>I made a Python script to delete old tweets. G...</td>\n",
       "      <td>0.91</td>\n",
       "      <td>16</td>\n",
       "      <td>0</td>\n",
       "      <td>16</td>\n",
       "    </tr>\n",
       "    <tr>\n",
       "      <th>4</th>\n",
       "      <td>Python</td>\n",
       "      <td>Here is a script that turns your pc off when a...</td>\n",
       "      <td>Here is a script that turns off your computer ...</td>\n",
       "      <td>0.73</td>\n",
       "      <td>15</td>\n",
       "      <td>0</td>\n",
       "      <td>15</td>\n",
       "    </tr>\n",
       "  </tbody>\n",
       "</table>\n",
       "</div>"
      ],
      "text/plain": [
       "  subreddit                                              title  \\\n",
       "0    Python  Sunday Daily Thread: What's everyone working o...   \n",
       "1    Python         Wednesday Daily Thread: Beginner questions   \n",
       "2    Python  Name a better learning resource than Schafer C...   \n",
       "3    Python  Do you have hundreds of old and embarrassing t...   \n",
       "4    Python  Here is a script that turns your pc off when a...   \n",
       "\n",
       "                                            selftext  upvote_ratio  ups  \\\n",
       "0  Tell /r/python what you're working on this wee...          0.83   13   \n",
       "1  New to Python and have questions? Use this thr...          1.00    1   \n",
       "2  I am really amazed by Schafer Corey on YouTube...          0.84  516   \n",
       "3  I made a Python script to delete old tweets. G...          0.91   16   \n",
       "4  Here is a script that turns off your computer ...          0.73   15   \n",
       "\n",
       "   downs  score  \n",
       "0      0     13  \n",
       "1      0      1  \n",
       "2      0    516  \n",
       "3      0     16  \n",
       "4      0     15  "
      ]
     },
     "execution_count": 11,
     "metadata": {},
     "output_type": "execute_result"
    }
   ],
   "source": [
    "full_list_bot_usrnames = []\n",
    "\n",
    "# Parsing a webpage that has one table of bot accounts.\n",
    "page = requests.get('https://www.reddit.com/r/autowikibot/wiki/redditbots', headers=headers)\n",
    "soup = bs4.BeautifulSoup(page.text, 'html.parser')\n",
    "\n",
    "# Passing the parsed page as text to the function\n",
    "dfs = pd.read_html(page.text)\n",
    "\n",
    "\n",
    "bots_table = dfs[0]\n",
    "bots_table.loc[:,'Username']\n",
    "\n",
    "for username in bots_table.loc[:,'Username']:\n",
    "    full_list_bot_usrnames.append(username)\n",
    "    # usrname_url = \"https://www.reddit.com\" + username\n",
    "    # print(usrname_url) \n",
    "    \n",
    "df.head()"
   ]
  },
  {
   "cell_type": "code",
   "execution_count": 16,
   "metadata": {},
   "outputs": [
    {
     "name": "stderr",
     "output_type": "stream",
     "text": [
      "C:\\Users\\Dell\\AppData\\Local\\Temp\\ipykernel_16168\\3604607192.py:8: FutureWarning: The frame.append method is deprecated and will be removed from pandas in a future version. Use pandas.concat instead.\n",
      "  total= dfs[0].append(dfs[1])\n"
     ]
    }
   ],
   "source": [
    "# Parsing a webpage that has two tables of bot accounts.\n",
    "page = requests.get('https://www.reddit.com/r/botwatch/comments/1wg6f6/bot_list_i_built_a_bot_to_find_other_bots_so_far/cf1nu8p/', headers=headers)\n",
    "soup = bs4.BeautifulSoup(page.text, 'html.parser')\n",
    "\n",
    "dfs = pd.read_html(page.text)\n",
    "\n",
    "# Appending the first dataframe of the firt table to the second dataframe of the second table.\n",
    "total= dfs[0].append(dfs[1]) \n",
    "\n",
    "for username in total.loc[:,'User']:\n",
    "    # usrname_url = \"https://www.reddit.com\" + username\n",
    "    # print(usrname_url) \n",
    "\n",
    "    # Checking if the bot account username is already in the list (from the table of bots in the previous list)\n",
    "    if username not in full_list_bot_usrnames:\n",
    "        full_list_bot_usrnames.append(username)"
   ]
  },
  {
   "cell_type": "code",
   "execution_count": 13,
   "metadata": {},
   "outputs": [
    {
     "name": "stdout",
     "output_type": "stream",
     "text": [
      "Number of bot accounts 408\n"
     ]
    }
   ],
   "source": [
    "print(\"Number of bot accounts\", len(full_list_bot_usrnames))"
   ]
  }
 ],
 "metadata": {
  "interpreter": {
   "hash": "e1c550a6079a4718d0a11530d69d7c3ad84a77e0ac4995e256c56e02c9b89fc8"
  },
  "kernelspec": {
   "display_name": "Python 3.8.5 ('base')",
   "language": "python",
   "name": "python3"
  },
  "language_info": {
   "codemirror_mode": {
    "name": "ipython",
    "version": 3
   },
   "file_extension": ".py",
   "mimetype": "text/x-python",
   "name": "python",
   "nbconvert_exporter": "python",
   "pygments_lexer": "ipython3",
   "version": "3.10.2"
  },
  "orig_nbformat": 4
 },
 "nbformat": 4,
 "nbformat_minor": 2
}
