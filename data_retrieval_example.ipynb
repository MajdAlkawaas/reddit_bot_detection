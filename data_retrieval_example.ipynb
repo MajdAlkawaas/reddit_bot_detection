{
 "cells": [
  {
   "cell_type": "markdown",
   "metadata": {},
   "source": [
    "# Data Retrieval Example\n",
    "\n",
    "## requirements:\n",
    "- install praw using the following command `!pip install praw`. Don't use conda for this specific model.\n",
    "- install beautifulsoup using the following command `!pip install bs4`\n",
    "- install requests if you don't have in your development environment \n",
    "\n",
    "## References:\n",
    "- https://towardsdatascience.com/how-to-use-the-reddit-api-in-python-5e05ddfd1e5c\n",
    "- https://www.reddit.com/dev/api\n",
    "- https://praw.readthedocs.io/en/stable/index.html\n"
   ]
  },
  {
   "cell_type": "code",
   "execution_count": 1,
   "metadata": {},
   "outputs": [],
   "source": [
    "# %pip install praw\n",
    "# %pip install pandas\n",
    "import praw\n",
    "import pandas as pd\n",
    "import requests\n",
    "import bs4"
   ]
  },
  {
   "cell_type": "markdown",
   "metadata": {},
   "source": [
    "## Connecting to the reddit API using `requests`\n",
    "\n",
    "### Steps:\n",
    "- create an app on reddit to acquire the access credentials:\n",
    "    - `PASSWORD` password of the reddit account used to create the app\n",
    "    - `USERNAME` username of the reddit account used to create the app\n",
    "    - `CLIENT_ID` acquired after creating the app\n",
    "    - `SECRET_TOKEN` acquired after creating the app\n"
   ]
  },
  {
   "cell_type": "code",
   "execution_count": 2,
   "metadata": {},
   "outputs": [],
   "source": [
    "# Replace <password> with the password for the CMPS287_project user. Replace myFirstDatabase with the name of the database that connections will use by default. Ensure any option params are URL encoded.\n",
    "# connection_string = \"mongodb+srv://CMPS287_project:<password>@cluster0.unwq2.mongodb.net/myFirstDatabase?retryWrites=true&w=majority\"\n",
    "# modogoDB_password = 'uHg8D8xpWwz71zRz'\n",
    "PASSWORD     = 'j=HUZ`6S8B'\n",
    "USERNAME     = 'CMPS287_project'\n",
    "CLIENT_ID    = 'd5w9jc7mmyeLEL2DG1wtxg'\n",
    "SECRET_TOKEN = 'HIOuTew4HunOVSJeFT47Yi4sCkdBCA'\n",
    "# note that CLIENT_ID refers to 'personal use script' and SECRET_TOKEN to 'token'\n",
    "auth = requests.auth.HTTPBasicAuth(CLIENT_ID, SECRET_TOKEN)\n",
    "\n",
    "# here we pass our login method (password), username, and password\n",
    "data = {'grant_type': 'password',\n",
    "        'username': USERNAME,\n",
    "        'password': PASSWORD }\n",
    "\n",
    "# setup our header info, which gives reddit a brief description of our app\n",
    "headers = {'User-Agent': 'MyAPI/0.0.1'}\n",
    "\n",
    "# send our request for an OAuth token\n",
    "res = requests.post('https://www.reddit.com/api/v1/access_token',\n",
    "                    auth=auth, data=data, headers=headers)\n",
    "\n",
    "# convert response to JSON and pull access_token value\n",
    "TOKEN = res.json()['access_token']\n",
    "\n",
    "# add authorization to our headers dictionary\n",
    "headers = {**headers, **{'Authorization': f\"bearer {TOKEN}\"}}\n",
    "\n",
    "# while the token is valid (~2 hours) we just add headers=headers to our requests\n",
    "response_josn = requests.get('https://oauth.reddit.com/api/v1/me', headers=headers).json()\n",
    "\n",
    "# To see the response just print response_json\n",
    "# print(response_josn)"
   ]
  },
  {
   "cell_type": "code",
   "execution_count": 3,
   "metadata": {},
   "outputs": [
    {
     "name": "stderr",
     "output_type": "stream",
     "text": [
      "C:\\Users\\LAPTOBEY\\AppData\\Local\\Temp/ipykernel_16584/3567365612.py:13: FutureWarning: The frame.append method is deprecated and will be removed from pandas in a future version. Use pandas.concat instead.\n",
      "  df = df.append({\n",
      "C:\\Users\\LAPTOBEY\\AppData\\Local\\Temp/ipykernel_16584/3567365612.py:13: FutureWarning: The frame.append method is deprecated and will be removed from pandas in a future version. Use pandas.concat instead.\n",
      "  df = df.append({\n",
      "C:\\Users\\LAPTOBEY\\AppData\\Local\\Temp/ipykernel_16584/3567365612.py:13: FutureWarning: The frame.append method is deprecated and will be removed from pandas in a future version. Use pandas.concat instead.\n",
      "  df = df.append({\n",
      "C:\\Users\\LAPTOBEY\\AppData\\Local\\Temp/ipykernel_16584/3567365612.py:13: FutureWarning: The frame.append method is deprecated and will be removed from pandas in a future version. Use pandas.concat instead.\n",
      "  df = df.append({\n",
      "C:\\Users\\LAPTOBEY\\AppData\\Local\\Temp/ipykernel_16584/3567365612.py:13: FutureWarning: The frame.append method is deprecated and will be removed from pandas in a future version. Use pandas.concat instead.\n",
      "  df = df.append({\n",
      "C:\\Users\\LAPTOBEY\\AppData\\Local\\Temp/ipykernel_16584/3567365612.py:13: FutureWarning: The frame.append method is deprecated and will be removed from pandas in a future version. Use pandas.concat instead.\n",
      "  df = df.append({\n",
      "C:\\Users\\LAPTOBEY\\AppData\\Local\\Temp/ipykernel_16584/3567365612.py:13: FutureWarning: The frame.append method is deprecated and will be removed from pandas in a future version. Use pandas.concat instead.\n",
      "  df = df.append({\n",
      "C:\\Users\\LAPTOBEY\\AppData\\Local\\Temp/ipykernel_16584/3567365612.py:13: FutureWarning: The frame.append method is deprecated and will be removed from pandas in a future version. Use pandas.concat instead.\n",
      "  df = df.append({\n",
      "C:\\Users\\LAPTOBEY\\AppData\\Local\\Temp/ipykernel_16584/3567365612.py:13: FutureWarning: The frame.append method is deprecated and will be removed from pandas in a future version. Use pandas.concat instead.\n",
      "  df = df.append({\n",
      "C:\\Users\\LAPTOBEY\\AppData\\Local\\Temp/ipykernel_16584/3567365612.py:13: FutureWarning: The frame.append method is deprecated and will be removed from pandas in a future version. Use pandas.concat instead.\n",
      "  df = df.append({\n",
      "C:\\Users\\LAPTOBEY\\AppData\\Local\\Temp/ipykernel_16584/3567365612.py:13: FutureWarning: The frame.append method is deprecated and will be removed from pandas in a future version. Use pandas.concat instead.\n",
      "  df = df.append({\n",
      "C:\\Users\\LAPTOBEY\\AppData\\Local\\Temp/ipykernel_16584/3567365612.py:13: FutureWarning: The frame.append method is deprecated and will be removed from pandas in a future version. Use pandas.concat instead.\n",
      "  df = df.append({\n",
      "C:\\Users\\LAPTOBEY\\AppData\\Local\\Temp/ipykernel_16584/3567365612.py:13: FutureWarning: The frame.append method is deprecated and will be removed from pandas in a future version. Use pandas.concat instead.\n",
      "  df = df.append({\n",
      "C:\\Users\\LAPTOBEY\\AppData\\Local\\Temp/ipykernel_16584/3567365612.py:13: FutureWarning: The frame.append method is deprecated and will be removed from pandas in a future version. Use pandas.concat instead.\n",
      "  df = df.append({\n",
      "C:\\Users\\LAPTOBEY\\AppData\\Local\\Temp/ipykernel_16584/3567365612.py:13: FutureWarning: The frame.append method is deprecated and will be removed from pandas in a future version. Use pandas.concat instead.\n",
      "  df = df.append({\n",
      "C:\\Users\\LAPTOBEY\\AppData\\Local\\Temp/ipykernel_16584/3567365612.py:13: FutureWarning: The frame.append method is deprecated and will be removed from pandas in a future version. Use pandas.concat instead.\n",
      "  df = df.append({\n",
      "C:\\Users\\LAPTOBEY\\AppData\\Local\\Temp/ipykernel_16584/3567365612.py:13: FutureWarning: The frame.append method is deprecated and will be removed from pandas in a future version. Use pandas.concat instead.\n",
      "  df = df.append({\n",
      "C:\\Users\\LAPTOBEY\\AppData\\Local\\Temp/ipykernel_16584/3567365612.py:13: FutureWarning: The frame.append method is deprecated and will be removed from pandas in a future version. Use pandas.concat instead.\n",
      "  df = df.append({\n",
      "C:\\Users\\LAPTOBEY\\AppData\\Local\\Temp/ipykernel_16584/3567365612.py:13: FutureWarning: The frame.append method is deprecated and will be removed from pandas in a future version. Use pandas.concat instead.\n",
      "  df = df.append({\n",
      "C:\\Users\\LAPTOBEY\\AppData\\Local\\Temp/ipykernel_16584/3567365612.py:13: FutureWarning: The frame.append method is deprecated and will be removed from pandas in a future version. Use pandas.concat instead.\n",
      "  df = df.append({\n",
      "C:\\Users\\LAPTOBEY\\AppData\\Local\\Temp/ipykernel_16584/3567365612.py:13: FutureWarning: The frame.append method is deprecated and will be removed from pandas in a future version. Use pandas.concat instead.\n",
      "  df = df.append({\n",
      "C:\\Users\\LAPTOBEY\\AppData\\Local\\Temp/ipykernel_16584/3567365612.py:13: FutureWarning: The frame.append method is deprecated and will be removed from pandas in a future version. Use pandas.concat instead.\n",
      "  df = df.append({\n",
      "C:\\Users\\LAPTOBEY\\AppData\\Local\\Temp/ipykernel_16584/3567365612.py:13: FutureWarning: The frame.append method is deprecated and will be removed from pandas in a future version. Use pandas.concat instead.\n",
      "  df = df.append({\n",
      "C:\\Users\\LAPTOBEY\\AppData\\Local\\Temp/ipykernel_16584/3567365612.py:13: FutureWarning: The frame.append method is deprecated and will be removed from pandas in a future version. Use pandas.concat instead.\n",
      "  df = df.append({\n",
      "C:\\Users\\LAPTOBEY\\AppData\\Local\\Temp/ipykernel_16584/3567365612.py:13: FutureWarning: The frame.append method is deprecated and will be removed from pandas in a future version. Use pandas.concat instead.\n",
      "  df = df.append({\n",
      "C:\\Users\\LAPTOBEY\\AppData\\Local\\Temp/ipykernel_16584/3567365612.py:13: FutureWarning: The frame.append method is deprecated and will be removed from pandas in a future version. Use pandas.concat instead.\n",
      "  df = df.append({\n",
      "C:\\Users\\LAPTOBEY\\AppData\\Local\\Temp/ipykernel_16584/3567365612.py:13: FutureWarning: The frame.append method is deprecated and will be removed from pandas in a future version. Use pandas.concat instead.\n",
      "  df = df.append({\n"
     ]
    }
   ],
   "source": [
    "hot = \"https://oauth.reddit.com/r/python/hot\"\n",
    "\n",
    "\n",
    "# make a request for the trending posts in /r/Python\n",
    "res = requests.get(\"https://oauth.reddit.com/r/python/hot\",\n",
    "                   headers=headers)\n",
    "\n",
    "df = pd.DataFrame()  # initialize dataframe\n",
    "\n",
    "# loop through each post retrieved from GET request\n",
    "for post in res.json()['data']['children']:\n",
    "    # append relevant data to dataframe\n",
    "    df = df.append({\n",
    "        'subreddit': post['data']['subreddit'],\n",
    "        'title': post['data']['title'],\n",
    "        'selftext': post['data']['selftext'],\n",
    "        'upvote_ratio': post['data']['upvote_ratio'],\n",
    "        'ups': post['data']['ups'],\n",
    "        'downs': post['data']['downs'],\n",
    "        'score': post['data']['score']\n",
    "    }, ignore_index=True)\n"
   ]
  },
  {
   "cell_type": "code",
   "execution_count": 4,
   "metadata": {},
   "outputs": [
    {
     "data": {
      "text/html": [
       "<div>\n",
       "<style scoped>\n",
       "    .dataframe tbody tr th:only-of-type {\n",
       "        vertical-align: middle;\n",
       "    }\n",
       "\n",
       "    .dataframe tbody tr th {\n",
       "        vertical-align: top;\n",
       "    }\n",
       "\n",
       "    .dataframe thead th {\n",
       "        text-align: right;\n",
       "    }\n",
       "</style>\n",
       "<table border=\"1\" class=\"dataframe\">\n",
       "  <thead>\n",
       "    <tr style=\"text-align: right;\">\n",
       "      <th></th>\n",
       "      <th>subreddit</th>\n",
       "      <th>title</th>\n",
       "      <th>selftext</th>\n",
       "      <th>upvote_ratio</th>\n",
       "      <th>ups</th>\n",
       "      <th>downs</th>\n",
       "      <th>score</th>\n",
       "    </tr>\n",
       "  </thead>\n",
       "  <tbody>\n",
       "    <tr>\n",
       "      <th>0</th>\n",
       "      <td>Python</td>\n",
       "      <td>Sunday Daily Thread: What's everyone working o...</td>\n",
       "      <td>Tell /r/python what you're working on this wee...</td>\n",
       "      <td>0.72</td>\n",
       "      <td>9</td>\n",
       "      <td>0</td>\n",
       "      <td>9</td>\n",
       "    </tr>\n",
       "    <tr>\n",
       "      <th>1</th>\n",
       "      <td>Python</td>\n",
       "      <td>Monday Daily Thread: Project ideas!</td>\n",
       "      <td>Comment any project ideas beginner or advanced...</td>\n",
       "      <td>0.50</td>\n",
       "      <td>0</td>\n",
       "      <td>0</td>\n",
       "      <td>0</td>\n",
       "    </tr>\n",
       "    <tr>\n",
       "      <th>2</th>\n",
       "      <td>Python</td>\n",
       "      <td>I'm too lazy to turn off my PC at nights. so m...</td>\n",
       "      <td>\\n\"Laziness\" is a common problem in programmer...</td>\n",
       "      <td>0.94</td>\n",
       "      <td>725</td>\n",
       "      <td>0</td>\n",
       "      <td>725</td>\n",
       "    </tr>\n",
       "    <tr>\n",
       "      <th>3</th>\n",
       "      <td>Python</td>\n",
       "      <td>Essential Books to Improve Your Python Program...</td>\n",
       "      <td>**it's absolutely possible to learn Python on...</td>\n",
       "      <td>0.84</td>\n",
       "      <td>29</td>\n",
       "      <td>0</td>\n",
       "      <td>29</td>\n",
       "    </tr>\n",
       "    <tr>\n",
       "      <th>4</th>\n",
       "      <td>Python</td>\n",
       "      <td>I used a new dataframe library (polars) to wra...</td>\n",
       "      <td></td>\n",
       "      <td>0.88</td>\n",
       "      <td>12</td>\n",
       "      <td>0</td>\n",
       "      <td>12</td>\n",
       "    </tr>\n",
       "  </tbody>\n",
       "</table>\n",
       "</div>"
      ],
      "text/plain": [
       "  subreddit                                              title  \\\n",
       "0    Python  Sunday Daily Thread: What's everyone working o...   \n",
       "1    Python                Monday Daily Thread: Project ideas!   \n",
       "2    Python  I'm too lazy to turn off my PC at nights. so m...   \n",
       "3    Python  Essential Books to Improve Your Python Program...   \n",
       "4    Python  I used a new dataframe library (polars) to wra...   \n",
       "\n",
       "                                            selftext  upvote_ratio  ups  \\\n",
       "0  Tell /r/python what you're working on this wee...          0.72    9   \n",
       "1  Comment any project ideas beginner or advanced...          0.50    0   \n",
       "2  \\n\"Laziness\" is a common problem in programmer...          0.94  725   \n",
       "3   **it's absolutely possible to learn Python on...          0.84   29   \n",
       "4                                                             0.88   12   \n",
       "\n",
       "   downs  score  \n",
       "0      0      9  \n",
       "1      0      0  \n",
       "2      0    725  \n",
       "3      0     29  \n",
       "4      0     12  "
      ]
     },
     "execution_count": 4,
     "metadata": {},
     "output_type": "execute_result"
    }
   ],
   "source": [
    "df.head()"
   ]
  },
  {
   "cell_type": "code",
   "execution_count": 5,
   "metadata": {},
   "outputs": [
    {
     "name": "stdout",
     "output_type": "stream",
     "text": [
      "kingtut2003\n",
      "NovemberGoat\n",
      "Palkenstein\n",
      "Hewo111\n",
      "Lemoontree3412\n",
      "SecureDonkey\n",
      "UnblackMetalist\n",
      "dafreshprints\n",
      "bababooey0608\n",
      "eskaden\n",
      "Cool-Boy57\n",
      "soundsystxm\n",
      "TriggerWarning9\n",
      "FB_emeenem\n",
      "The_Dying\n",
      "thatstupidthing\n",
      "tidytuna\n",
      "NostraThomas1\n",
      "uziau\n",
      "CumDogMillionare93\n",
      "Edwunclerthe3rd\n",
      "BrilliantIdiot99\n",
      "someonee404\n",
      "msleo90\n",
      "Nostalgia_Red\n"
     ]
    }
   ],
   "source": [
    "# getting usernames of the hot posts\n",
    "authors_contributors = \"https://oauth.reddit.com/r/explainlikeimfive/hot\"\n",
    "\n",
    "# make a request for the trending posts in /r/Python\n",
    "res = requests.get(authors_contributors, headers=headers)\n",
    "\n",
    "respons_json = res.json()['data']['children']\n",
    "\n",
    "for i in range(len(respons_json)):\n",
    "    print(respons_json[i]['data']['author'])"
   ]
  },
  {
   "cell_type": "markdown",
   "metadata": {},
   "source": [
    "## Example using praw library\n",
    "- praw library is the python Reddit API wrapper\n",
    "- We use the same access credentials we used in the previous example"
   ]
  },
  {
   "cell_type": "code",
   "execution_count": 6,
   "metadata": {},
   "outputs": [
    {
     "name": "stdout",
     "output_type": "stream",
     "text": [
      "True\n",
      "Ask Anything Monday - Weekly Thread\n",
      "where to start to learn python\n",
      "Oh can i make that in less lines\n",
      "Pytest is failing on GitHub Actions but succeeds locally\n",
      "What are the basic elements of OOP for Python?\n",
      "problem using .split() when taking two inputs from a user\n",
      "Weather Station project\n",
      "Implementing a simple math captcha in flask ( x+y=z)?\n",
      "I learn in a really specific way…\n",
      "Looking for a mentor please.\n"
     ]
    }
   ],
   "source": [
    "reddit = praw.Reddit(client_id     = CLIENT_ID,\n",
    "                     client_secret = SECRET_TOKEN,\n",
    "                     user_agent    = 'MyAPI/0.0.1')\n",
    "\n",
    "# To test if your instance is working use:\n",
    "print(reddit.read_only) # Output: True\n",
    "\n",
    "for submission in reddit.subreddit(\"learnpython\").hot(limit=10):\n",
    "    print(submission.title)"
   ]
  },
  {
   "cell_type": "code",
   "execution_count": 7,
   "metadata": {},
   "outputs": [
    {
     "name": "stdout",
     "output_type": "stream",
     "text": [
      "autowikibot/botlist\n",
      "autowikibot/commandlist\n",
      "autowikibot/config/description\n",
      "autowikibot/config/sidebar\n",
      "autowikibot/config/stylesheet\n",
      "autowikibot/config/submit_text\n",
      "autowikibot/css\n",
      "autowikibot/excludedsubs\n",
      "autowikibot/index\n",
      "autowikibot/livelists\n",
      "autowikibot/modfaqs\n",
      "autowikibot/nsfwtag\n",
      "autowikibot/planned\n",
      "autowikibot/redditbots\n",
      "autowikibot/rootonlysubs\n",
      "autowikibot/statistics\n",
      "autowikibot/summon\n",
      "autowikibot/summononlysubs\n",
      "autowikibot/userblacklist\n"
     ]
    }
   ],
   "source": [
    "#  getting the wikipages of the r/autowikibot subreddit\n",
    "#  link to the subreddit http://www.reddit.com/user/autowikibot\n",
    "\n",
    "for wikipage in reddit.subreddit(\"autowikibot\").wiki:\n",
    "    print(wikipage)"
   ]
  },
  {
   "cell_type": "code",
   "execution_count": 8,
   "metadata": {},
   "outputs": [],
   "source": [
    "# getting the content of a specific wikipage in the r/autowikibot subreddit\n",
    "# link to the wikipage we are requesting https://www.reddit.com/r/autowikibot/wiki/redditbots\n",
    "wikipage = reddit.subreddit(\"autowikibot\").wiki[\"redditbots\"]\n",
    "\n",
    "# print the content of the page\n",
    "# print(wikipage.content_md)"
   ]
  },
  {
   "cell_type": "markdown",
   "metadata": {},
   "source": [
    "## Using BeautifulSoup"
   ]
  },
  {
   "cell_type": "code",
   "execution_count": 9,
   "metadata": {},
   "outputs": [
    {
     "ename": "NameError",
     "evalue": "name 'bs4' is not defined",
     "output_type": "error",
     "traceback": [
      "\u001b[1;31m---------------------------------------------------------------------------\u001b[0m",
      "\u001b[1;31mNameError\u001b[0m                                 Traceback (most recent call last)",
      "\u001b[1;32m~\\AppData\\Local\\Temp/ipykernel_16584/1395515973.py\u001b[0m in \u001b[0;36m<module>\u001b[1;34m\u001b[0m\n\u001b[0;32m      6\u001b[0m \u001b[0mpage\u001b[0m \u001b[1;33m=\u001b[0m \u001b[0mrequests\u001b[0m\u001b[1;33m.\u001b[0m\u001b[0mget\u001b[0m\u001b[1;33m(\u001b[0m\u001b[0murl\u001b[0m\u001b[1;33m,\u001b[0m \u001b[0mheaders\u001b[0m\u001b[1;33m=\u001b[0m\u001b[0mheaders\u001b[0m\u001b[1;33m)\u001b[0m\u001b[1;33m\u001b[0m\u001b[1;33m\u001b[0m\u001b[0m\n\u001b[0;32m      7\u001b[0m \u001b[1;33m\u001b[0m\u001b[0m\n\u001b[1;32m----> 8\u001b[1;33m \u001b[0msoup\u001b[0m \u001b[1;33m=\u001b[0m \u001b[0mbs4\u001b[0m\u001b[1;33m.\u001b[0m\u001b[0mBeautifulSoup\u001b[0m\u001b[1;33m(\u001b[0m\u001b[0mpage\u001b[0m\u001b[1;33m.\u001b[0m\u001b[0mtext\u001b[0m\u001b[1;33m,\u001b[0m \u001b[1;34m'html.parser'\u001b[0m\u001b[1;33m)\u001b[0m\u001b[1;33m\u001b[0m\u001b[1;33m\u001b[0m\u001b[0m\n\u001b[0m\u001b[0;32m      9\u001b[0m \u001b[0ma_tags\u001b[0m \u001b[1;33m=\u001b[0m \u001b[0msoup\u001b[0m\u001b[1;33m.\u001b[0m\u001b[0mselect\u001b[0m\u001b[1;33m(\u001b[0m\u001b[1;34m\"table tbody td a\"\u001b[0m\u001b[1;33m)\u001b[0m\u001b[1;33m\u001b[0m\u001b[1;33m\u001b[0m\u001b[0m\n\u001b[0;32m     10\u001b[0m \u001b[1;33m\u001b[0m\u001b[0m\n",
      "\u001b[1;31mNameError\u001b[0m: name 'bs4' is not defined"
     ]
    }
   ],
   "source": [
    "url = \"https://www.reddit.com/r/autowikibot/wiki/redditbots\"\n",
    "# Headers to mimic a browser visit\n",
    "headers = {'User-Agent': 'Mozilla/5.0'}\n",
    "\n",
    "# Returns a requests.models.Response object\n",
    "page = requests.get(url, headers=headers)\n",
    "\n",
    "soup = bs4.BeautifulSoup(page.text, 'html.parser')\n",
    "a_tags = soup.select(\"table tbody td a\")\n",
    "\n",
    "bots_usrnames = []\n",
    "for i in range(len(a_tags)):\n",
    "    href = a_tags[i].attrs['href']\n",
    "    if href.startswith('/u/'):\n",
    "        # print(href)\n",
    "        bots_usrnames.append(href)\n",
    "len(bots_usrnames)"
   ]
  },
  {
   "cell_type": "markdown",
   "metadata": {},
   "source": [
    "## Using BeautifulSoup and Pandas\n",
    "\n",
    "- Pandas provide a `read_html()` function that takes a webpage url and returns a list of dataframes created form the tables that exist in the said webpage.\n",
    "- I am using here bs4 to parse the webpage and passing the soup object which is the parsed html page I am doing this instead of passing the url to the function because the parser that is integrated with the function is bad."
   ]
  },
  {
   "cell_type": "code",
   "execution_count": null,
   "metadata": {},
   "outputs": [
    {
     "data": {
      "text/html": [
       "<div>\n",
       "<style scoped>\n",
       "    .dataframe tbody tr th:only-of-type {\n",
       "        vertical-align: middle;\n",
       "    }\n",
       "\n",
       "    .dataframe tbody tr th {\n",
       "        vertical-align: top;\n",
       "    }\n",
       "\n",
       "    .dataframe thead th {\n",
       "        text-align: right;\n",
       "    }\n",
       "</style>\n",
       "<table border=\"1\" class=\"dataframe\">\n",
       "  <thead>\n",
       "    <tr style=\"text-align: right;\">\n",
       "      <th></th>\n",
       "      <th>subreddit</th>\n",
       "      <th>title</th>\n",
       "      <th>selftext</th>\n",
       "      <th>upvote_ratio</th>\n",
       "      <th>ups</th>\n",
       "      <th>downs</th>\n",
       "      <th>score</th>\n",
       "    </tr>\n",
       "  </thead>\n",
       "  <tbody>\n",
       "    <tr>\n",
       "      <th>0</th>\n",
       "      <td>0.0</td>\n",
       "      <td>14.0</td>\n",
       "      <td>Tell /r/python what you're working on this wee...</td>\n",
       "      <td>Python</td>\n",
       "      <td>Sunday Daily Thread: What's everyone working o...</td>\n",
       "      <td>14.0</td>\n",
       "      <td>1.00</td>\n",
       "    </tr>\n",
       "    <tr>\n",
       "      <th>1</th>\n",
       "      <td>0.0</td>\n",
       "      <td>0.0</td>\n",
       "      <td>Use this thread to talk about anything Python ...</td>\n",
       "      <td>Python</td>\n",
       "      <td>Friday Daily Thread: Free chat Friday! Daily T...</td>\n",
       "      <td>0.0</td>\n",
       "      <td>0.50</td>\n",
       "    </tr>\n",
       "    <tr>\n",
       "      <th>2</th>\n",
       "      <td>0.0</td>\n",
       "      <td>73.0</td>\n",
       "      <td>hey, yesterday I was making an auto reply bot ...</td>\n",
       "      <td>Python</td>\n",
       "      <td>copilot getting creepy</td>\n",
       "      <td>73.0</td>\n",
       "      <td>0.87</td>\n",
       "    </tr>\n",
       "    <tr>\n",
       "      <th>3</th>\n",
       "      <td>0.0</td>\n",
       "      <td>26.0</td>\n",
       "      <td>This was built as my first year university pro...</td>\n",
       "      <td>Python</td>\n",
       "      <td>Boihut bookstore(Ecommerce ) website made in D...</td>\n",
       "      <td>26.0</td>\n",
       "      <td>0.86</td>\n",
       "    </tr>\n",
       "    <tr>\n",
       "      <th>4</th>\n",
       "      <td>0.0</td>\n",
       "      <td>11.0</td>\n",
       "      <td></td>\n",
       "      <td>Python</td>\n",
       "      <td>Python 3.11 Preview: Task and Exception Groups...</td>\n",
       "      <td>11.0</td>\n",
       "      <td>0.93</td>\n",
       "    </tr>\n",
       "  </tbody>\n",
       "</table>\n",
       "</div>"
      ],
      "text/plain": [
       "   downs  score                                           selftext subreddit  \\\n",
       "0    0.0   14.0  Tell /r/python what you're working on this wee...    Python   \n",
       "1    0.0    0.0  Use this thread to talk about anything Python ...    Python   \n",
       "2    0.0   73.0  hey, yesterday I was making an auto reply bot ...    Python   \n",
       "3    0.0   26.0  This was built as my first year university pro...    Python   \n",
       "4    0.0   11.0                                                       Python   \n",
       "\n",
       "                                               title   ups  upvote_ratio  \n",
       "0  Sunday Daily Thread: What's everyone working o...  14.0          1.00  \n",
       "1  Friday Daily Thread: Free chat Friday! Daily T...   0.0          0.50  \n",
       "2                             copilot getting creepy  73.0          0.87  \n",
       "3  Boihut bookstore(Ecommerce ) website made in D...  26.0          0.86  \n",
       "4  Python 3.11 Preview: Task and Exception Groups...  11.0          0.93  "
      ]
     },
     "execution_count": 11,
     "metadata": {},
     "output_type": "execute_result"
    }
   ],
   "source": [
    "full_list_bot_usrnames = []\n",
    "\n",
    "# Parsing a webpage that has one table of bot accounts.\n",
    "page = requests.get('https://www.reddit.com/r/autowikibot/wiki/redditbots', headers=headers)\n",
    "soup = bs4.BeautifulSoup(page.text, 'html.parser')\n",
    "\n",
    "# Passing the parsed page as text to the function\n",
    "dfs = pd.read_html(page.text)\n",
    "\n",
    "\n",
    "bots_table = dfs[0]\n",
    "bots_table.loc[:,'Username']\n",
    "\n",
    "for username in bots_table.loc[:,'Username']:\n",
    "    full_list_bot_usrnames.append(username)\n",
    "    # usrname_url = \"https://www.reddit.com\" + username\n",
    "    # print(usrname_url) \n",
    "    \n",
    "df.head()"
   ]
  },
  {
   "cell_type": "code",
   "execution_count": null,
   "metadata": {},
   "outputs": [
    {
     "name": "stderr",
     "output_type": "stream",
     "text": [
      "C:\\Users\\Dell\\AppData\\Local\\Temp\\ipykernel_16168\\3604607192.py:8: FutureWarning: The frame.append method is deprecated and will be removed from pandas in a future version. Use pandas.concat instead.\n",
      "  total= dfs[0].append(dfs[1])\n"
     ]
    }
   ],
   "source": [
    "# Parsing a webpage that has two tables of bot accounts.\n",
    "page = requests.get('https://www.reddit.com/r/botwatch/comments/1wg6f6/bot_list_i_built_a_bot_to_find_other_bots_so_far/cf1nu8p/', headers=headers)\n",
    "soup = bs4.BeautifulSoup(page.text, 'html.parser')\n",
    "\n",
    "dfs = pd.read_html(page.text)\n",
    "\n",
    "# Appending the first dataframe of the firt table to the second dataframe of the second table.\n",
    "total= dfs[0].append(dfs[1]) \n",
    "\n",
    "for username in total.loc[:,'User']:\n",
    "    # usrname_url = \"https://www.reddit.com\" + username\n",
    "    # print(usrname_url) \n",
    "\n",
    "    # Checking if the bot account username is already in the list (from the table of bots in the previous list)\n",
    "    if username not in full_list_bot_usrnames:\n",
    "        full_list_bot_usrnames.append(username)"
   ]
  },
  {
   "cell_type": "code",
   "execution_count": null,
   "metadata": {},
   "outputs": [],
   "source": [
    "pd.DataFrame(full_list_bot_usrnames).to_csv(\"test.csv\")"
   ]
  },
  {
   "cell_type": "code",
   "execution_count": null,
   "metadata": {},
   "outputs": [],
   "source": []
  },
  {
   "cell_type": "code",
   "execution_count": null,
   "metadata": {},
   "outputs": [],
   "source": [
    "trolls_list = []\n",
    "trolls_list_url = \"https://www.reddit.com/wiki/suspiciousaccounts\"\n",
    "page = requests.get(trolls_list_url, headers=headers)\n",
    "\n",
    "df_trolls = pd.read_html(page.text)[0]\n",
    "\n",
    "for username in df_trolls.loc[:,'Username']:\n",
    "    # usrname_url = \"https://www.reddit.com\" + username\n",
    "    # print(usrname_url) \n",
    "\n",
    "    trolls_list.append(username)"
   ]
  },
  {
   "cell_type": "code",
   "execution_count": null,
   "metadata": {},
   "outputs": [
    {
     "data": {
      "text/plain": [
       "939"
      ]
     },
     "execution_count": 47,
     "metadata": {},
     "output_type": "execute_result"
    }
   ],
   "source": [
    "len(trolls_list) # 939"
   ]
  },
  {
   "cell_type": "code",
   "execution_count": null,
   "metadata": {},
   "outputs": [],
   "source": []
  }
 ],
 "metadata": {
  "interpreter": {
   "hash": "1d79ee5334178d558789f22e348b45f2654e64cb826454f5f26bfdb3d14cc171"
  },
  "kernelspec": {
   "display_name": "Python 3.9.12 64-bit (windows store)",
   "language": "python",
   "name": "python3"
  },
  "language_info": {
   "codemirror_mode": {
    "name": "ipython",
    "version": 3
   },
   "file_extension": ".py",
   "mimetype": "text/x-python",
   "name": "python",
   "nbconvert_exporter": "python",
   "pygments_lexer": "ipython3",
   "version": "3.9.12"
  },
  "orig_nbformat": 4
 },
 "nbformat": 4,
 "nbformat_minor": 2
}
