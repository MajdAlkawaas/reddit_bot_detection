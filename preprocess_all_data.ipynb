{
 "cells": [
  {
   "cell_type": "markdown",
   "metadata": {},
   "source": [
    "## Imports"
   ]
  },
  {
   "cell_type": "code",
   "execution_count": 1,
   "metadata": {},
   "outputs": [
    {
     "name": "stdout",
     "output_type": "stream",
     "text": [
      "Comments data: dict_keys(['X_comments', 'X_comments_sub', 'Y_comments', 'Y_comments_sub'])\n",
      "Posts data:    dict_keys(['X_posts', 'X_posts_sub', 'Y_posts', 'Y_posts_sub'])\n"
     ]
    },
    {
     "name": "stderr",
     "output_type": "stream",
     "text": [
      "[nltk_data] Downloading package wordnet to\n",
      "[nltk_data]     C:\\Users\\LAPTOBEY\\AppData\\Roaming\\nltk_data...\n",
      "[nltk_data]   Package wordnet is already up-to-date!\n",
      "[nltk_data] Downloading package omw-1.4 to\n",
      "[nltk_data]     C:\\Users\\LAPTOBEY\\AppData\\Roaming\\nltk_data...\n",
      "[nltk_data]   Package omw-1.4 is already up-to-date!\n"
     ]
    },
    {
     "data": {
      "text/plain": [
       "True"
      ]
     },
     "execution_count": 1,
     "metadata": {},
     "output_type": "execute_result"
    }
   ],
   "source": [
    "from unpickle_all_data import *\n",
    "import nltk \n",
    "import sklearn as sk\n",
    "import numpy as np\n",
    "import pickle\n",
    "import re\n",
    "from nltk.corpus import stopwords\n",
    "nltk.download('wordnet')\n",
    "nltk.download('omw-1.4')"
   ]
  },
  {
   "cell_type": "markdown",
   "metadata": {},
   "source": [
    "## Getting Pickeled Data"
   ]
  },
  {
   "cell_type": "code",
   "execution_count": 2,
   "metadata": {},
   "outputs": [],
   "source": [
    "X_comments = comments_data['X_comments']\n",
    "Y_comments = comments_data['Y_comments']\n",
    "\n",
    "X_comments_sub = comments_data['X_comments_sub']\n",
    "Y_comments_sub = comments_data['Y_comments_sub']\n",
    "\n",
    "X_posts = posts_data['X_posts']\n",
    "Y_posts = posts_data['Y_posts']\n",
    "\n",
    "X_posts_sub = posts_data['X_posts_sub']\n",
    "Y_posts_sub = posts_data['Y_posts_sub']\n"
   ]
  },
  {
   "cell_type": "markdown",
   "metadata": {},
   "source": [
    "## Shuffling Data"
   ]
  },
  {
   "cell_type": "code",
   "execution_count": 3,
   "metadata": {},
   "outputs": [],
   "source": [
    "\n",
    "def groupData(arr1,arr2):\n",
    "  return [[arr1[i], arr2[i]] for i in range(len(arr1))]\n",
    "\n",
    "def ungroupData(arr):\n",
    "  return [d[0] for d in arr], [d[1] for d in arr]\n",
    "\n",
    "def shuffleData(arr):\n",
    "  return sk.utils.shuffle(arr)\n",
    "\n",
    "comments = groupData(X_comments,Y_comments)\n",
    "comments_sub = groupData(X_comments_sub,Y_comments_sub)\n",
    "posts = groupData(X_posts,Y_posts)\n",
    "posts_sub = groupData(X_posts_sub,Y_posts_sub)\n",
    "\n",
    "comments = shuffleData(comments)\n",
    "comments_sub = shuffleData(comments_sub)\n",
    "posts = shuffleData(posts)\n",
    "posts_sub = shuffleData(posts_sub)\n",
    "\n",
    "X_comments,Y_comments = ungroupData(comments)\n",
    "X_comments_sub,Y_comments_sub = ungroupData(comments_sub)\n",
    "X_posts,Y_posts = ungroupData(posts)\n",
    "X_posts_sub,Y_posts_sub = ungroupData(posts_sub)\n"
   ]
  },
  {
   "cell_type": "markdown",
   "metadata": {},
   "source": [
    "## Data Preprocessing Helper Functions"
   ]
  },
  {
   "cell_type": "code",
   "execution_count": 4,
   "metadata": {},
   "outputs": [],
   "source": [
    "def stemming_data(data):\n",
    "    stemmer = nltk.stem.WordNetLemmatizer()\n",
    "    documents = []\n",
    "    for i in range(len(data)):\n",
    "        # Remove all the special characters\n",
    "        document = re.sub(r'[^a-zA-Z0-9]', ' ', str(data[i]))\n",
    "        # remove all single characters\n",
    "        document = re.sub(r'\\s+[a-zA-Z]\\s+', ' ', document)\n",
    "        # Remove single characters from the start\n",
    "        document = re.sub(r'\\^[a-zA-Z]\\s+', ' ', document) \n",
    "        # Substituting multiple spaces with single space\n",
    "        document = re.sub(r'\\s+', ' ', document, flags=re.I)\n",
    "        # Removing prefixed 'b'\n",
    "        document = re.sub(r'^b\\s+', '', document)\n",
    "        # Converting to Lowercase\n",
    "        document = document.lower() \n",
    "        # Lemmatization\n",
    "        document = document.split()\n",
    "        document = [stemmer.lemmatize(word) for word in document]\n",
    "        document = ' '.join(document)\n",
    "  \n",
    "        documents.append(document)\n",
    "    return documents\n",
    "\n",
    "def createVectorizer(training):\n",
    "  vectorizer = sk.feature_extraction.text.TfidfVectorizer(input='content',max_features=1500, min_df=5, max_df=0.7, stop_words=stopwords.words('english'))\n",
    "  vectorizer.fit_transform(training).toarray()\n",
    "  return vectorizer\n",
    "\n",
    "def vectorizeData(vectorizer,data):\n",
    "    return vectorizer.transform(data).toarray()\n",
    "\n",
    "  "
   ]
  },
  {
   "cell_type": "markdown",
   "metadata": {},
   "source": [
    "## Preprocessing Data"
   ]
  },
  {
   "cell_type": "code",
   "execution_count": 5,
   "metadata": {},
   "outputs": [],
   "source": [
    "documents_X_comments = stemming_data(X_comments)\n",
    "documents_X_comments_sub = stemming_data(X_comments_sub)\n",
    "documents_X_posts = stemming_data(X_posts)\n",
    "documents_X_posts_sub = stemming_data(X_posts_sub)\n",
    "\n",
    "vectorizer_comments = createVectorizer(documents_X_comments)\n",
    "vectorizer_comments_sub = createVectorizer(documents_X_comments_sub)\n",
    "vectorizer_posts = createVectorizer(documents_X_posts)\n",
    "vectorizer_posts_sub = createVectorizer(documents_X_posts_sub)\n",
    "\n",
    "weighted_X_comments = vectorizeData(vectorizer_comments,documents_X_comments)\n",
    "weighted_X_comments_sub = vectorizeData(vectorizer_comments_sub,documents_X_comments_sub)\n",
    "weighted_X_posts = vectorizeData(vectorizer_posts,documents_X_posts)\n",
    "weighted_X_posts_sub = vectorizeData(vectorizer_posts_sub,documents_X_posts_sub)\n"
   ]
  },
  {
   "cell_type": "markdown",
   "metadata": {},
   "source": [
    "## Pickling Data"
   ]
  },
  {
   "cell_type": "code",
   "execution_count": 7,
   "metadata": {},
   "outputs": [],
   "source": [
    "def pickleData(arr, filename):\n",
    "  with open(filename,'wb') as f: pickle.dump(arr, f)\n",
    "\n",
    "def unPickleData(filename):\n",
    "  with open(filename,'rb') as f: arr = pickle.load(f)\n",
    "  return arr\n",
    "\n",
    "pickleData(weighted_X_comments,os.path.join(\"processed_data\", \"comments\",\"X_comments.pkl\"))\n",
    "pickleData(Y_comments,os.path.join(\"processed_data\", \"comments\",\"Y_comments.pkl\"))\n",
    "\n",
    "pickleData(weighted_X_comments_sub,os.path.join(\"processed_data\", \"comments\",\"X_comments_sub.pkl\"))\n",
    "pickleData(Y_comments_sub,os.path.join(\"processed_data\", \"comments\",\"Y_comments_sub.pkl\"))\n",
    "\n",
    "\n",
    "pickleData(weighted_X_posts,os.path.join(\"processed_data\", \"posts\",\"X_posts.pkl\"))\n",
    "pickleData(Y_posts,os.path.join(\"processed_data\", \"posts\",\"Y_posts.pkl\"))\n",
    "\n",
    "pickleData(weighted_X_posts_sub,os.path.join(\"processed_data\", \"posts\",\"X_posts_sub.pkl\"))\n",
    "pickleData(Y_posts_sub,os.path.join(\"processed_data\", \"posts\",\"Y_posts_sub.pkl\"))\n",
    "\n"
   ]
  },
  {
   "cell_type": "markdown",
   "metadata": {},
   "source": [
    "### Data Sanity Checking"
   ]
  },
  {
   "cell_type": "code",
   "execution_count": null,
   "metadata": {},
   "outputs": [
    {
     "name": "stdout",
     "output_type": "stream",
     "text": [
      "True\n",
      "True\n"
     ]
    }
   ],
   "source": [
    "arr = unPickleData(os.path.join(\"processed_data\", \"comments\",\"X_comments.pkl\"))\n",
    "print(np.array_equal(arr,weighted_X_comments))\n",
    "arr = unPickleData(os.path.join(\"processed_data\", \"posts\",\"Y_posts.pkl\"))\n",
    "print(np.array_equal(arr,Y_posts))\n"
   ]
  },
  {
   "cell_type": "code",
   "execution_count": null,
   "metadata": {},
   "outputs": [],
   "source": []
  }
 ],
 "metadata": {
  "interpreter": {
   "hash": "0f8db473d6762dfb6f9dcd7989df9714501dfc9335e8a68c24282034a9bd8d9b"
  },
  "kernelspec": {
   "display_name": "Python 3.9.12 64-bit (windows store)",
   "language": "python",
   "name": "python3"
  },
  "language_info": {
   "codemirror_mode": {
    "name": "ipython",
    "version": 3
   },
   "file_extension": ".py",
   "mimetype": "text/x-python",
   "name": "python",
   "nbconvert_exporter": "python",
   "pygments_lexer": "ipython3",
   "version": "3.9.12"
  },
  "orig_nbformat": 4
 },
 "nbformat": 4,
 "nbformat_minor": 2
}
