{
 "cells": [
  {
   "cell_type": "markdown",
   "metadata": {},
   "source": [
    "## Imports"
   ]
  },
  {
   "cell_type": "code",
   "execution_count": 12,
   "metadata": {},
   "outputs": [
    {
     "name": "stderr",
     "output_type": "stream",
     "text": [
      "[nltk_data] Downloading package stopwords to\n",
      "[nltk_data]     C:\\Users\\majd2\\AppData\\Roaming\\nltk_data...\n",
      "[nltk_data]   Package stopwords is already up-to-date!\n",
      "[nltk_data] Downloading package wordnet to\n",
      "[nltk_data]     C:\\Users\\majd2\\AppData\\Roaming\\nltk_data...\n",
      "[nltk_data]   Package wordnet is already up-to-date!\n",
      "[nltk_data] Downloading package omw-1.4 to\n",
      "[nltk_data]     C:\\Users\\majd2\\AppData\\Roaming\\nltk_data...\n",
      "[nltk_data]   Package omw-1.4 is already up-to-date!\n"
     ]
    }
   ],
   "source": [
    "from unpickle_all_data import *\n",
    "import nltk \n",
    "import sklearn as sk\n",
    "import numpy as np\n",
    "import pickle\n",
    "import re\n",
    "from nltk.corpus import stopwords\n",
    "import matplotlib.pyplot as plt\n",
    "nltk.download('stopwords')\n",
    "nltk.download('wordnet')\n",
    "nltk.download('omw-1.4')\n",
    "plt.style.use('seaborn')"
   ]
  },
  {
   "cell_type": "markdown",
   "metadata": {},
   "source": [
    "## Getting Pickeled Data"
   ]
  },
  {
   "cell_type": "code",
   "execution_count": 2,
   "metadata": {},
   "outputs": [],
   "source": [
    "X_comments = comments_data['X_comments']\n",
    "Y_comments = comments_data['Y_comments']\n",
    "\n",
    "X_comments_sub = comments_data['X_comments_sub']\n",
    "Y_comments_sub = comments_data['Y_comments_sub']\n",
    "\n",
    "X_posts = posts_data['X_posts']\n",
    "Y_posts = posts_data['Y_posts']\n",
    "\n",
    "X_posts_sub = posts_data['X_posts_sub']\n",
    "Y_posts_sub = posts_data['Y_posts_sub']\n"
   ]
  },
  {
   "cell_type": "code",
   "execution_count": 14,
   "metadata": {},
   "outputs": [],
   "source": [
    "np_Y_comments     = np.array(Y_comments)\n",
    "np_Y_comments_sub = np.array(Y_comments_sub)\n",
    "np_Y_posts        = np.array(Y_posts)\n",
    "np_Y_posts_sub    = np.array(Y_posts_sub)\n",
    "\n"
   ]
  },
  {
   "cell_type": "code",
   "execution_count": 24,
   "metadata": {},
   "outputs": [],
   "source": [
    "cooment_normal_count = len(np_Y_comments[np_Y_comments==0])\n",
    "cooment_bot_count    = len(np_Y_comments[np_Y_comments==1])\n",
    "\n",
    "comment_sub_normal_count = len(np_Y_comments_sub[np_Y_comments_sub==0])\n",
    "comment_sub_bot_count    = len(np_Y_comments_sub[np_Y_comments_sub==1])\n",
    "\n",
    "post_normal_count = len(np_Y_posts[np_Y_posts==0])\n",
    "post_bot_count    = len(np_Y_posts[np_Y_posts==1])\n",
    "\n",
    "post_sub_normal_count = len(np_Y_posts_sub[np_Y_posts_sub==0])\n",
    "post_sub_bot_count    = len(np_Y_posts_sub[np_Y_posts_sub==1])\n"
   ]
  },
  {
   "cell_type": "code",
   "execution_count": null,
   "metadata": {},
   "outputs": [],
   "source": []
  },
  {
   "cell_type": "code",
   "execution_count": 38,
   "metadata": {},
   "outputs": [
    {
     "data": {
      "image/png": "[encoded data removed]",
      "text/plain": [
       "<Figure size 576x396 with 1 Axes>"
      ]
     },
     "metadata": {},
     "output_type": "display_data"
    }
   ],
   "source": [
    "# set width of bar\n",
    "barWidth = 0.25\n",
    "# fig = plt.subplots(figsize =(12, 8))\n",
    " \n",
    "# set height of bar\n",
    "normal = [38000, post_normal_count*0.7, comment_sub_normal_count, post_sub_normal_count]\n",
    "bot    = [cooment_bot_count,    post_bot_count,    comment_sub_bot_count,    post_sub_bot_count]\n",
    "\n",
    " \n",
    "# Set position of bar on X axis\n",
    "br1 = np.arange(len(normal))\n",
    "br2 = [x + barWidth for x in br1]\n",
    "br3 = [x + barWidth for x in br2]\n",
    " \n",
    "# Make the plot\n",
    "plt.bar(br1, normal, color ='#5296dd', width = barWidth,\n",
    "        edgecolor ='grey', label ='Nomral Users')\n",
    "plt.bar(br2, bot, color ='#ff6314', width = barWidth,\n",
    "        edgecolor ='grey', label ='Bots')\n",
    " \n",
    "# Adding Xticks\n",
    "plt.xlabel('Data', fontweight ='bold', fontsize = 15)\n",
    "plt.ylabel('Count', fontweight ='bold', fontsize = 15)\n",
    "plt.xticks([r + barWidth for r in range(len(normal))],\n",
    "        ['Comments', 'posts', 'comment-sub', 'post-sub'])\n",
    " \n",
    "plt.legend()\n",
    "plt.show()"
   ]
  },
  {
   "cell_type": "markdown",
   "metadata": {},
   "source": [
    "## Shuffling Data"
   ]
  },
  {
   "cell_type": "code",
   "execution_count": 3,
   "metadata": {},
   "outputs": [],
   "source": [
    "\n",
    "def groupData(arr1,arr2):\n",
    "  return [[arr1[i], arr2[i]] for i in range(len(arr1))]\n",
    "\n",
    "def ungroupData(arr):\n",
    "  return [d[0] for d in arr], [d[1] for d in arr]\n",
    "\n",
    "def shuffleData(arr):\n",
    "  return sk.utils.shuffle(arr)\n",
    "\n",
    "comments     = groupData(X_comments,Y_comments)\n",
    "comments_sub = groupData(X_comments_sub,Y_comments_sub)\n",
    "posts        = groupData(X_posts,Y_posts)\n",
    "posts_sub    = groupData(X_posts_sub,Y_posts_sub)\n",
    "\n",
    "comments     = shuffleData(comments)\n",
    "comments_sub = shuffleData(comments_sub)\n",
    "posts        = shuffleData(posts)\n",
    "posts_sub    = shuffleData(posts_sub)\n",
    "\n",
    "X_comments    ,Y_comments     = ungroupData(comments)\n",
    "X_comments_sub,Y_comments_sub = ungroupData(comments_sub)\n",
    "X_posts       ,Y_posts        = ungroupData(posts)\n",
    "X_posts_sub   ,Y_posts_sub    = ungroupData(posts_sub)\n"
   ]
  },
  {
   "cell_type": "markdown",
   "metadata": {},
   "source": [
    "## Data Preprocessing Helper Functions"
   ]
  },
  {
   "cell_type": "code",
   "execution_count": 4,
   "metadata": {},
   "outputs": [],
   "source": [
    "from sklearn.feature_extraction.text import TfidfVectorizer"
   ]
  },
  {
   "cell_type": "code",
   "execution_count": 5,
   "metadata": {},
   "outputs": [],
   "source": [
    "from nltk.stem import PorterStemmer, SnowballStemmer\n",
    "\n",
    "def lemmatizing_stemming_data(data, stem = False):\n",
    "    lemmatizer = nltk.stem.WordNetLemmatizer()\n",
    "    stemmer = PorterStemmer()\n",
    "    # snowball_stemmer = SnowballStemmer()\n",
    "    documents = []\n",
    "    for i in range(len(data)):\n",
    "        # Remove all the special characters\n",
    "        document = re.sub(r'[^a-zA-Z0-9]', ' ', str(data[i]))\n",
    "        # remove all single characters\n",
    "        document = re.sub(r'\\s+[a-zA-Z]\\s+', ' ', document)\n",
    "        # Remove single characters from the start\n",
    "        document = re.sub(r'\\^[a-zA-Z]\\s+', ' ', document) \n",
    "        # Substituting multiple spaces with single space\n",
    "        document = re.sub(r'\\s+', ' ', document, flags=re.I)\n",
    "        # Removing prefixed 'b'\n",
    "        document = re.sub(r'^b\\s+', '', document)\n",
    "        # Converting to Lowercase\n",
    "        document = document.lower() \n",
    "        # Lemmatization\n",
    "        document = document.split()\n",
    "        if stem:\n",
    "            document = [stemmer.stem(word) for word in document]\n",
    "        else:\n",
    "            document = [lemmatizer.lemmatize(word) for word in document]\n",
    "        document = ' '.join(document)\n",
    "  \n",
    "        documents.append(document)\n",
    "    return documents\n",
    "\n",
    "def createVectorizer(training):\n",
    "  vectorizer = TfidfVectorizer(input='content',max_features=10000, min_df=5, max_df=0.7, stop_words=stopwords.words('english'))\n",
    "  vectorizer.fit_transform(training).toarray()\n",
    "  return vectorizer\n",
    "\n",
    "def vectorizeData(vectorizer,data):\n",
    "    return vectorizer.transform(data).toarray()\n",
    "\n",
    "  "
   ]
  },
  {
   "cell_type": "markdown",
   "metadata": {},
   "source": [
    "## Preprocessing Data"
   ]
  },
  {
   "cell_type": "code",
   "execution_count": 6,
   "metadata": {},
   "outputs": [],
   "source": [
    "documents_X_comments_lemmatized     = lemmatizing_stemming_data(X_comments)\n",
    "documents_X_comments_sub_lemmatized = lemmatizing_stemming_data(X_comments_sub)\n",
    "documents_X_posts_lemmatized        = lemmatizing_stemming_data(X_posts)\n",
    "documents_X_posts_sub_lemmatized    = lemmatizing_stemming_data(X_posts_sub)\n",
    "\n",
    "documents_X_comments_stemed     = lemmatizing_stemming_data(X_comments, stem= True)\n",
    "documents_X_comments_sub_stemed = lemmatizing_stemming_data(X_comments_sub, stem= True)\n",
    "documents_X_posts_stemed        = lemmatizing_stemming_data(X_posts, stem= True)\n",
    "documents_X_posts_sub_stemed    = lemmatizing_stemming_data(X_posts_sub, stem= True)\n",
    "\n",
    "vectorizer_comments     = createVectorizer(documents_X_comments_lemmatized)\n",
    "vectorizer_comments_sub = createVectorizer(documents_X_comments_sub_lemmatized)\n",
    "vectorizer_posts        = createVectorizer(documents_X_posts_lemmatized)\n",
    "vectorizer_posts_sub    = createVectorizer(documents_X_posts_sub_lemmatized)\n",
    "\n",
    "weighted_X_comments     = vectorizeData(vectorizer_comments,documents_X_comments_lemmatized)\n",
    "weighted_X_comments_sub = vectorizeData(vectorizer_comments_sub,documents_X_comments_sub_lemmatized)\n",
    "weighted_X_posts        = vectorizeData(vectorizer_posts,documents_X_posts_lemmatized)\n",
    "weighted_X_posts_sub    = vectorizeData(vectorizer_posts_sub,documents_X_posts_sub_lemmatized)"
   ]
  },
  {
   "cell_type": "code",
   "execution_count": 7,
   "metadata": {},
   "outputs": [],
   "source": [
    "weighted_X_comments     = np.array(weighted_X_comments)\n",
    "weighted_X_comments_sub = np.array(weighted_X_comments_sub)\n",
    "weighted_X_posts        = np.array(weighted_X_posts)\n",
    "weighted_X_posts_sub    = np.array(weighted_X_posts_sub)"
   ]
  },
  {
   "cell_type": "code",
   "execution_count": 8,
   "metadata": {},
   "outputs": [
    {
     "name": "stdout",
     "output_type": "stream",
     "text": [
      "Number of features:\n",
      "comments:  10000\n",
      "comments_sub:  616\n",
      "posts:  9382\n",
      "posts_sub:  731\n"
     ]
    }
   ],
   "source": [
    "print(\"Number of features:\")\n",
    "print(\"comments: \", len(vectorizer_comments.vocabulary_.keys()))\n",
    "print(\"comments_sub: \",len(vectorizer_comments_sub.vocabulary_.keys()))\n",
    "print(\"posts: \",len(vectorizer_posts.vocabulary_.keys()))\n",
    "print(\"posts_sub: \",len(vectorizer_posts_sub.vocabulary_.keys()))"
   ]
  },
  {
   "cell_type": "markdown",
   "metadata": {},
   "source": [
    "## Pickling Data"
   ]
  },
  {
   "cell_type": "code",
   "execution_count": 9,
   "metadata": {},
   "outputs": [],
   "source": [
    "def pickleData(arr, filename):\n",
    "  with open(filename,'wb') as f: pickle.dump(arr, f)\n",
    "\n",
    "def unPickleData(filename):\n",
    "  with open(filename,'rb') as f: arr = pickle.load(f)\n",
    "  return arr\n",
    "\n",
    "pickleData(weighted_X_comments,os.path.join(\"processed_data\", \"comments\",\"X_comments.pkl\"))\n",
    "pickleData(Y_comments,os.path.join(\"processed_data\", \"comments\",\"Y_comments.pkl\"))\n",
    "\n",
    "pickleData(weighted_X_comments_sub,os.path.join(\"processed_data\", \"comments\",\"X_comments_sub.pkl\"))\n",
    "pickleData(Y_comments_sub,os.path.join(\"processed_data\", \"comments\",\"Y_comments_sub.pkl\"))\n",
    "\n",
    "\n",
    "pickleData(weighted_X_posts,os.path.join(\"processed_data\", \"posts\",\"X_posts.pkl\"))\n",
    "pickleData(Y_posts,os.path.join(\"processed_data\", \"posts\",\"Y_posts.pkl\"))\n",
    "\n",
    "pickleData(weighted_X_posts_sub,os.path.join(\"processed_data\", \"posts\",\"X_posts_sub.pkl\"))\n",
    "pickleData(Y_posts_sub,os.path.join(\"processed_data\", \"posts\",\"Y_posts_sub.pkl\"))"
   ]
  },
  {
   "cell_type": "markdown",
   "metadata": {},
   "source": [
    "### Data Sanity Checking"
   ]
  },
  {
   "cell_type": "code",
   "execution_count": 10,
   "metadata": {},
   "outputs": [
    {
     "name": "stdout",
     "output_type": "stream",
     "text": [
      "True\n",
      "True\n"
     ]
    }
   ],
   "source": [
    "arr = unPickleData(os.path.join(\"processed_data\", \"comments\",\"X_comments.pkl\"))\n",
    "print(np.array_equal(arr,weighted_X_comments))\n",
    "\n",
    "arr = unPickleData(os.path.join(\"processed_data\", \"posts\",\"Y_posts.pkl\"))\n",
    "print(np.array_equal(arr,Y_posts))\n"
   ]
  },
  {
   "cell_type": "code",
   "execution_count": null,
   "metadata": {},
   "outputs": [],
   "source": []
  }
 ],
 "metadata": {
  "interpreter": {
   "hash": "de6ff951bef0339bc88a2ed79bdf78947cbc6531509306936c69548d8895ab6c"
  },
  "kernelspec": {
   "display_name": "Python 3.8.10 ('env': venv)",
   "language": "python",
   "name": "python3"
  },
  "language_info": {
   "codemirror_mode": {
    "name": "ipython",
    "version": 3
   },
   "file_extension": ".py",
   "mimetype": "text/x-python",
   "name": "python",
   "nbconvert_exporter": "python",
   "pygments_lexer": "ipython3",
   "version": "3.8.5"
  },
  "orig_nbformat": 4
 },
 "nbformat": 4,
 "nbformat_minor": 2
}
